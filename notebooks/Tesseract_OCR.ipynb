{
  "nbformat": 4,
  "nbformat_minor": 0,
  "metadata": {
    "colab": {
      "provenance": [],
      "authorship_tag": "ABX9TyN0TS4DpZK7w8PBQiWWe5Cw",
      "include_colab_link": true
    },
    "kernelspec": {
      "name": "python3",
      "display_name": "Python 3"
    },
    "language_info": {
      "name": "python"
    }
  },
  "cells": [
    {
      "cell_type": "markdown",
      "metadata": {
        "id": "view-in-github",
        "colab_type": "text"
      },
      "source": [
        "<a href=\"https://colab.research.google.com/github/cs-amy/project-codebase/blob/main/notebooks/Tesseract_OCR.ipynb\" target=\"_parent\"><img src=\"https://colab.research.google.com/assets/colab-badge.svg\" alt=\"Open In Colab\"/></a>"
      ]
    },
    {
      "cell_type": "markdown",
      "source": [
        "# **Tesseract OCR**\n",
        "Part of MSc Project - Ashraf Muhammed Yusuf"
      ],
      "metadata": {
        "id": "8nOpNFUUtO_C"
      }
    },
    {
      "cell_type": "code",
      "execution_count": null,
      "metadata": {
        "id": "9A9yZLh8s8Ej"
      },
      "outputs": [],
      "source": [
        "# Install / import dependencies\n",
        "!apt-get update && apt-get install -y tesseract-ocr\n",
        "!pip install -q pytesseract pillow jiwer\n",
        "\n",
        "import os\n",
        "import glob\n",
        "import pytesseract\n",
        "import numpy as np\n",
        "import pandas as pd\n",
        "import seaborn as sns\n",
        "import matplotlib.pyplot as plt\n",
        "from pathlib import Path\n",
        "from google.colab import drive\n",
        "from PIL import Image\n",
        "from jiwer import wer, cer\n",
        "from tqdm import tqdm\n",
        "from collections import Counter\n",
        "\n",
        "# Mount Drive & define base path\n",
        "# Mount Drive so you can read datasets and write checkpoints\n",
        "# Link to Drive:\n",
        "# https://drive.google.com/drive/folders/1sfNG1PkmTPBe1wOSQXZmfdkvR97Hn9lk?usp=sharing\n",
        "drive.mount('/content/drive')"
      ]
    },
    {
      "cell_type": "markdown",
      "source": [
        "# **Tesseract over Word Dataset**"
      ],
      "metadata": {
        "id": "o5b3LP6D2TUZ"
      }
    },
    {
      "cell_type": "code",
      "source": [
        "# Configuration: test/ dir\n",
        "TEST_DIR = \"/content/drive/MyDrive/MScProject/data/words3/test\"\n",
        "\n",
        "# Set up Tesseract: only uppercase A–Z, single line (--psm 7)\n",
        "tess_config = r\"--oem 1 --psm 7 -c tessedit_char_whitelist=ABCDEFGHIJKLMNOPQRSTUVWXYZ\"\n",
        "\n",
        "# Run OCR over every image, collect predictions & ground truth\n",
        "gt_labels = []\n",
        "pred_labels = []\n",
        "\n",
        "for cls in sorted(os.listdir(TEST_DIR)):\n",
        "    cls_path = os.path.join(TEST_DIR, cls)\n",
        "    if not os.path.isdir(cls_path):\n",
        "        continue\n",
        "    for img_path in glob.glob(os.path.join(cls_path, \"*.png\")):\n",
        "        # ground truth is the folder name\n",
        "        gt = cls\n",
        "        # load image as grayscale\n",
        "        img = Image.open(img_path).convert(\"L\")\n",
        "        # optional thresholding:\n",
        "        # img = img.point(lambda x: 0 if x<128 else 255, '1')\n",
        "        pred = pytesseract.image_to_string(img, config=tess_config)\n",
        "        pred = pred.strip().upper()\n",
        "\n",
        "        gt_labels.append(gt)\n",
        "        pred_labels.append(pred)\n",
        "        print(f\"Label: {gt} → Pred: {pred}\")\n",
        "\n",
        "# Exact-match accuracy\n",
        "exact_acc = np.mean([p == g for p, g in zip(pred_labels, gt_labels)])\n",
        "print(f\"Exact match accuracy: {exact_acc:.4%}\")\n",
        "\n",
        "# Average character-error rate (CER) and word-error rate (WER)\n",
        "avg_cer = np.mean([cer(g, p) for p, g in zip(pred_labels, gt_labels)])\n",
        "avg_wer = np.mean([wer(g, p) for p, g in zip(pred_labels, gt_labels)])\n",
        "print(f\"Mean CER: {avg_cer:.4f}\")\n",
        "print(f\"Mean WER: {avg_wer:.4f}\")"
      ],
      "metadata": {
        "id": "ymM-G7zIuO9j"
      },
      "execution_count": null,
      "outputs": []
    },
    {
      "cell_type": "markdown",
      "source": [
        "# **Tesseract over Character Dataset**"
      ],
      "metadata": {
        "id": "ZWQ6--t_2GJE"
      }
    },
    {
      "cell_type": "code",
      "source": [
        "CHAR_TEST_DIR = \"/content/drive/MyDrive/MScProject/data/characters/test\"\n",
        "\n",
        "# Tell pytesseract to treat each image as a single character, restrict to A–Z\n",
        "TESSERACT_CONFIG = r\"--psm 10 -c tessedit_char_whitelist=ABCDEFGHIJKLMNOPQRSTUVWXYZ\"\n",
        "\n",
        "# Run through the dataset\n",
        "y_true, y_pred = [], []\n",
        "for true_char in sorted(os.listdir(CHAR_TEST_DIR)):\n",
        "    char_dir = Path(CHAR_TEST_DIR) / true_char\n",
        "    if not char_dir.is_dir():\n",
        "        continue\n",
        "    for img_path in char_dir.glob(\"*.png\"):\n",
        "        img = Image.open(img_path).convert(\"L\")\n",
        "        # optional: binarize if your glyphs need thresholding:\n",
        "        # img = img.point(lambda x: 0 if x<128 else 255, mode='1')\n",
        "        txt = pytesseract.image_to_string(img, config=TESSERACT_CONFIG)\n",
        "        pred = txt.strip().upper()\n",
        "        # take first character only (in case of noise)\n",
        "        pred = pred[0] if len(pred)>0 else \"\"\n",
        "        y_true.append(true_char)\n",
        "        y_pred.append(pred)\n",
        "        print(f\"Label: {true_char} → Pred: {pred}\")\n",
        "\n",
        "# Compute accuracy\n",
        "correct = sum(t==p for t,p in zip(y_true, y_pred))\n",
        "total   = len(y_true)\n",
        "acc = correct/total\n",
        "print(f\"Character‐level Tesseract Accuracy: {acc*100:5.2f}%  ({correct}/{total})\")\n",
        "\n",
        "# Build & plot a confusion matrix for the most frequent errors\n",
        "labels = sorted(set(y_true))\n",
        "cm = np.zeros((len(labels), len(labels)), dtype=int)\n",
        "idx = {c:i for i,c in enumerate(labels)}\n",
        "for t,p in zip(y_true, y_pred):\n",
        "    i, j = idx[t], idx.get(p, None)\n",
        "    if j is None:\n",
        "        # treat unknown predictions as a special “?” class\n",
        "        continue\n",
        "    cm[i, j] += 1\n",
        "\n",
        "plt.figure(figsize=(8,6))\n",
        "sns.heatmap(cm, xticklabels=labels, yticklabels=labels, fmt=\"d\", cmap=\"Blues\")\n",
        "plt.xlabel(\"Tesseract Predicted\")\n",
        "plt.ylabel(\"Ground Truth\")\n",
        "plt.title(\"Confusion Matrix on Character Test Set\")\n",
        "plt.show()"
      ],
      "metadata": {
        "id": "p9a4N0aA1wNS"
      },
      "execution_count": null,
      "outputs": []
    }
  ]
}