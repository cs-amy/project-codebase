{
 "cells": [
  {
   "cell_type": "markdown",
   "metadata": {},
   "source": [
    "# MSc Project Training on Google Colab\n",
    "\n",
    "This notebook sets up the environment for training your letter classification model on Google Colab."
   ]
  },
  {
   "cell_type": "markdown",
   "metadata": {},
   "source": [
    "## 1. Clone the GitHub Repository\n",
    "\n",
    "First, clone your GitHub repository. Replace `YOUR_GITHUB_USERNAME` and `YOUR_REPO_NAME` with your actual GitHub username and repository name."
   ]
  },
  {
   "cell_type": "code",
   "execution_count": null,
   "metadata": {},
   "outputs": [],
   "source": [
    "!git clone https://github.com/YOUR_GITHUB_USERNAME/YOUR_REPO_NAME.git\n",
    "%cd YOUR_REPO_NAME"
   ]
  },
  {
   "cell_type": "markdown",
   "metadata": {},
   "source": [
    "## 2. Mount Google Drive (for data files)\n",
    "\n",
    "If your data files are stored in Google Drive, mount it here."
   ]
  },
  {
   "cell_type": "code",
   "execution_count": null,
   "metadata": {},
   "outputs": [],
   "source": [
    "from google.colab import drive\n",
    "drive.mount('/content/drive')\n",
    "\n",
    "# Create symbolic links to your data directories if needed\n",
    "!ln -s /content/drive/MyDrive/YOUR_DATA_PATH/data data"
   ]
  },
  {
   "cell_type": "markdown",
   "metadata": {},
   "source": [
    "## 3. Install Dependencies\n",
    "\n",
    "Install the required packages from your requirements.txt file."
   ]
  },
  {
   "cell_type": "code",
   "execution_count": null,
   "metadata": {},
   "outputs": [],
   "source": [
    "!pip install -r requirements.txt\n",
    "\n",
    "# If you need specific versions of PyTorch with CUDA support\n",
    "!pip install torch==2.2.2 torchvision==0.17.2 torchaudio==2.2.2 --index-url https://download.pytorch.org/whl/cu118"
   ]
  },
  {
   "cell_type": "markdown",
   "metadata": {},
   "source": [
    "## 4. Set Up Python Path\n",
    "\n",
    "Ensure that your project modules can be imported correctly."
   ]
  },
  {
   "cell_type": "code",
   "execution_count": null,
   "metadata": {},
   "outputs": [],
   "source": [
    "import sys\n",
    "sys.path.append('/content/YOUR_REPO_NAME')\n",
    "\n",
    "# Verify imports work\n",
    "from src.data.data_loader import DataLoader\n",
    "from src.models.letter_classifier import LetterClassifier\n",
    "from src.train.trainer import Trainer\n",
    "\n",
    "print(\"Imports successful!\")"
   ]
  },
  {
   "cell_type": "markdown",
   "metadata": {},
   "source": [
    "## 5. Load Configuration\n",
    "\n",
    "Load your training configuration from the config file."
   ]
  },
  {
   "cell_type": "code",
   "execution_count": null,
   "metadata": {},
   "outputs": [],
   "source": [
    "import yaml\n",
    "\n",
    "with open('configs/train_config.yaml', 'r') as f:\n",
    "    config = yaml.safe_load(f)\n",
    "    \n",
    "print(\"Configuration loaded successfully!\")"
   ]
  },
  {
   "cell_type": "markdown",
   "metadata": {},
   "source": [
    "## 6. Train Your Model\n",
    "\n",
    "Now you can run your training code."
   ]
  },
  {
   "cell_type": "code",
   "execution_count": null,
   "metadata": {},
   "outputs": [],
   "source": [
    "# Example training code - modify according to your specific training script\n",
    "from src.train.trainer import Trainer\n",
    "from src.models.letter_classifier import LetterClassifier\n",
    "from src.data.data_loader import DataLoader\n",
    "\n",
    "# Initialize data loader\n",
    "data_loader = DataLoader(config['data'])\n",
    "\n",
    "# Initialize model\n",
    "model = LetterClassifier(config['model'])\n",
    "\n",
    "# Initialize trainer\n",
    "trainer = Trainer(model, data_loader, config['training'])\n",
    "\n",
    "# Train model\n",
    "trainer.train()"
   ]
  },
  {
   "cell_type": "markdown",
   "metadata": {},
   "source": [
    "## 7. Save Results to Google Drive\n",
    "\n",
    "Save your trained model and results to Google Drive for persistence."
   ]
  },
  {
   "cell_type": "code",
   "execution_count": null,
   "metadata": {},
   "outputs": [],
   "source": [
    "# Create directory for results if it doesn't exist\n",
    "!mkdir -p /content/drive/MyDrive/YOUR_PROJECT_RESULTS\n",
    "\n",
    "# Copy results to Google Drive\n",
    "!cp -r results/* /content/drive/MyDrive/YOUR_PROJECT_RESULTS/"
   ]
  }
 ],
 "metadata": {
  "accelerator": "GPU",
  "colab": {
   "collapsed_sections": [],
   "name": "MSc Project Training",
   "provenance": []
  },
  "kernelspec": {
   "display_name": "Python 3",
   "language": "python",
   "name": "python3"
  },
  "language_info": {
   "codemirror_mode": {
    "name": "ipython",
    "version": 3
   },
   "file_extension": ".py",
   "mimetype": "text/x-python",
   "name": "python",
   "nbconvert_exporter": "python",
   "pygments_lexer": "ipython3",
   "version": "3.10.13"
  }
 },
 "nbformat": 4,
 "nbformat_minor": 4
}
