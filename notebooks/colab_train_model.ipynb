{
 "cells": [
  {
   "cell_type": "markdown",
   "metadata": {
    "colab_type": "text",
    "id": "view-in-github"
   },
   "source": [
    "<a href=\"https://colab.research.google.com/github/cs-amy/project-codebase/blob/main/notebooks/colab_training.ipynb\" target=\"_parent\"><img src=\"https://colab.research.google.com/assets/colab-badge.svg\" alt=\"Open In Colab\"/></a>"
   ]
  },
  {
   "cell_type": "markdown",
   "metadata": {
    "id": "0nog1hADaZOK"
   },
   "source": [
    "# **MSc Project Model Training on Google Colab**\n",
    "`Author: Ashraf Muhammed Yusuf (23011173)`\n",
    "\n",
    "This notebook sets up the environment for training a letter classification model on Google Colab."
   ]
  },
  {
   "cell_type": "markdown",
   "metadata": {
    "id": "OdOUGOlnaZOM"
   },
   "source": [
    "## 1. Clone the GitHub Repository\n",
    "\n",
    "First, clone the project's GitHub repository."
   ]
  },
  {
   "cell_type": "code",
   "execution_count": null,
   "metadata": {
    "id": "t-0ls620aZOM"
   },
   "outputs": [],
   "source": [
    "# Delete the project-codebase directory if it exists\n",
    "!rm -rf project-codebase\n",
    "\n",
    "!git clone https://github.com/cs-amy/project-codebase.git\n",
    "%cd project-codebase"
   ]
  },
  {
   "cell_type": "markdown",
   "metadata": {
    "id": "7t8XlWpLaZOM"
   },
   "source": [
    "## 2. Mount Google Drive (for data files)\n",
    "\n",
    "If the project's data files are stored in Google Drive, mount it here.\n",
    "\n",
    "Note: If you do not already have the project data saved to your drive:\n",
    "\n",
    "\n",
    "1.   Access it here: https://drive.google.com/drive/folders/1sfNG1PkmTPBe1wOSQXZmfdkvR97Hn9lk?usp=sharing\n",
    "2.   Copy the entire folder to your drive\n",
    "\n"
   ]
  },
  {
   "cell_type": "code",
   "execution_count": null,
   "metadata": {
    "id": "CIaBlVzOaZON"
   },
   "outputs": [],
   "source": [
    "from google.colab import drive\n",
    "drive.mount('/content/drive')\n",
    "\n",
    "print(\"Drive mounted successfully!\")"
   ]
  },
  {
   "cell_type": "code",
   "execution_count": null,
   "metadata": {
    "id": "EXHAQINrBS-o"
   },
   "outputs": [],
   "source": [
    "# Create symbolic links to the data directory\n",
    "!ln -s /content/drive/MyDrive/MScProject/data data\n",
    "\n",
    "print(\"Symbolic links created successfully!\")"
   ]
  },
  {
   "cell_type": "markdown",
   "metadata": {
    "id": "Kd9Pq7TuaZON"
   },
   "source": [
    "## 3. Install Dependencies\n",
    "\n",
    "Install the required packages from the requirements.txt file."
   ]
  },
  {
   "cell_type": "code",
   "execution_count": null,
   "metadata": {
    "id": "ReSHp1RgaZON"
   },
   "outputs": [],
   "source": [
    "!pip install -r requirements.txt\n",
    "\n",
    "# Specific versions of PyTorch with CUDA support\n",
    "!pip install torch==2.2.2 torchvision==0.17.2 torchaudio==2.2.2 --index-url https://download.pytorch.org/whl/cu118\n",
    "\n",
    "print(\"All dependencies installed successfully!\")"
   ]
  },
  {
   "cell_type": "markdown",
   "metadata": {
    "id": "cStl18DfaZON"
   },
   "source": [
    "## 4. Set Up Python Path\n",
    "\n",
    "Set up the python path correctly."
   ]
  },
  {
   "cell_type": "code",
   "execution_count": null,
   "metadata": {
    "id": "34qpQFtlaZON"
   },
   "outputs": [],
   "source": [
    "import sys\n",
    "sys.path.append('/content/project-codebase')\n",
    "\n",
    "print(\"Python path set up successfully!\")"
   ]
  },
  {
   "cell_type": "markdown",
   "metadata": {
    "id": "JB46ZRFEaZON"
   },
   "source": [
    "## 5. Model Configuration\n",
    "Model configuration for the letter classifier."
   ]
  },
  {
   "cell_type": "code",
   "execution_count": null,
   "metadata": {
    "id": "tLaLqnQBaZON"
   },
   "outputs": [],
   "source": [
    "config = {\n",
    "    \"model\": {\n",
    "        \"architecture\": \"LetterClassifierCNN\",\n",
    "        \"input_shape\": [28, 28, 1],  # Height, Width, Channels\n",
    "        \"num_classes\": 26,  # a-z\n",
    "        \"dropout_rate\": 0.5 # Dropout rate for the model\n",
    "    },\n",
    "    \"training\": {\n",
    "        \"epochs\": 100,\n",
    "        \"batch_size\": 64,  # Will be automatically adjusted based on available memory\n",
    "        \"learning_rate\": 0.01, # Learning rate for the optimizer\n",
    "        \"weight_decay\": 0.0001, # Weight decay for the optimizer\n",
    "        \"optimizer\": \"adam\", # Optimizer to use\n",
    "        \"lr_scheduler\": {\n",
    "            \"use\": True, # Whether to use a learning rate scheduler\n",
    "            \"type\": \"reduce_on_plateau\", # Type of learning rate scheduler\n",
    "            \"patience\": 5, # Number of epochs to wait before reducing learning rate\n",
    "            \"factor\": 0.5, # Factor by which the learning rate will be reduced\n",
    "            \"min_lr\": 0.00001 # Minimum learning rate\n",
    "        },\n",
    "        \"early_stopping\": {\n",
    "            \"use\": True, # Whether to use early stopping\n",
    "            \"patience\": 15, # Number of epochs to wait before stopping if no improvement\n",
    "            \"min_delta\": 0.001 # Minimum change in loss to qualify as an improvement\n",
    "        }\n",
    "    },\n",
    "    \"data\": {\n",
    "        \"regular\": {\n",
    "            \"train_dir\": \"data/characters/regular/train\",\n",
    "            \"test_dir\": \"data/characters/regular/test\"\n",
    "        },\n",
    "        \"obfuscated\": {\n",
    "            \"train_dir\": \"data/characters/obfuscated/train\",\n",
    "            \"test_dir\": \"data/characters/obfuscated/test\"\n",
    "        },\n",
    "        \"image_size\": [28, 28],  # Input image size (height, width)\n",
    "        \"validation_split\": 0.2,  # Portion of training data to use for validation\n",
    "        \"shuffle\": True, # Whether to shuffle the data\n",
    "        \"augmentation\": {\n",
    "            \"use\": True, # Whether to apply augmentation to the image\n",
    "            \"rotation_range\": 10, # Randomly rotate the image\n",
    "            \"zoom_range\": 0.1, # Randomly zoom in or out on the image\n",
    "            \"width_shift_range\": 0.1, # Randomly shift the image horizontally\n",
    "            \"height_shift_range\": 0.1, # Randomly shift the image vertically\n",
    "            \"brightness_range\": [0.8, 1.2], # Randomly adjust brightness of the image\n",
    "            \"random_noise\": 0.01 # Add random noise to the image\n",
    "        }\n",
    "    },\n",
    "    \"output\": {\n",
    "        \"dir\": \"outputs/letter_classifier\",  # Relative to project root\n",
    "        \"save_frequency\": 5,  # Save checkpoint every N epochs\n",
    "        \"keep_best\": True   # Keep best model based on validation loss\n",
    "    }\n",
    "}\n",
    "\n",
    "print(\"Model configuration set up successfully!\")"
   ]
  },
  {
   "cell_type": "markdown",
   "metadata": {
    "id": "n7YtmyjWaZON"
   },
   "source": [
    "## 6. Train Model\n",
    "\n",
    "Set up and run the training routine."
   ]
  },
  {
   "cell_type": "code",
   "execution_count": null,
   "metadata": {
    "id": "mNsc1BZUaZON"
   },
   "outputs": [],
   "source": [
    "from src.train.train import train\n",
    "\n",
    "train(config)"
   ]
  },
  {
   "cell_type": "markdown",
   "metadata": {
    "id": "cDqXoZpYaZON"
   },
   "source": [
    "## 7. Save Results to Google Drive (optional)\n",
    "\n",
    "Save the trained model and results to Google Drive for persistence."
   ]
  },
  {
   "cell_type": "code",
   "execution_count": null,
   "metadata": {
    "id": "AQmg7BV_aZON"
   },
   "outputs": [],
   "source": [
    "# Create directory for results if it doesn't exist\n",
    "!mkdir -p /content/drive/MyDrive/MScProject/results\n",
    "\n",
    "# Copy results to Google Drive\n",
    "!cp -r results/* /content/drive/MyDrive/MScProject/results"
   ]
  }
 ],
 "metadata": {
  "accelerator": "GPU",
  "colab": {
   "gpuType": "T4",
   "include_colab_link": true,
   "name": "MSc Project Training",
   "provenance": []
  },
  "kernelspec": {
   "display_name": "Python 3 (ipykernel)",
   "language": "python",
   "name": "python3"
  },
  "language_info": {
   "codemirror_mode": {
    "name": "ipython",
    "version": 3
   },
   "file_extension": ".py",
   "mimetype": "text/x-python",
   "name": "python",
   "nbconvert_exporter": "python",
   "pygments_lexer": "ipython3",
   "version": "3.12.7"
  }
 },
 "nbformat": 4,
 "nbformat_minor": 4
}
