{
  "cells": [
    {
      "cell_type": "markdown",
      "metadata": {
        "id": "view-in-github",
        "colab_type": "text"
      },
      "source": [
        "<a href=\"https://colab.research.google.com/github/cs-amy/project-codebase/blob/main/notebooks/Word_classifier.ipynb\" target=\"_parent\"><img src=\"https://colab.research.google.com/assets/colab-badge.svg\" alt=\"Open In Colab\"/></a>"
      ]
    },
    {
      "cell_type": "markdown",
      "metadata": {
        "id": "RNvi5n0bLCda"
      },
      "source": [
        "# **CNN Sliding-Window Model for 3-Letter Word De-Obfuscation**\n",
        "Stage 2 of MSc Project — Ashraf Muhammed Yusuf"
      ]
    },
    {
      "cell_type": "markdown",
      "metadata": {
        "id": "V3t0wN17LOBf"
      },
      "source": [
        "# **1. Colab Environment Setup**"
      ]
    },
    {
      "cell_type": "code",
      "execution_count": 1,
      "metadata": {
        "id": "U3XkX4M9gxev"
      },
      "outputs": [],
      "source": [
        "# Install dependencies\n",
        "!pip install -q tensorflow matplotlib"
      ]
    },
    {
      "cell_type": "code",
      "source": [
        "# Optional - Install font (we will use it to generate images)\n",
        "# Colab / Ubuntu repositories already ship Roboto\n",
        "!sudo apt-get -qq update\n",
        "!sudo apt-get -qq install fonts-roboto"
      ],
      "metadata": {
        "id": "3DrSvqCfIfbJ",
        "outputId": "3bb651ea-f6ba-41fa-f711-2bbb0e87df46",
        "colab": {
          "base_uri": "https://localhost:8080/"
        }
      },
      "execution_count": 2,
      "outputs": [
        {
          "output_type": "stream",
          "name": "stdout",
          "text": [
            "W: Skipping acquire of configured file 'main/source/Sources' as repository 'https://r2u.stat.illinois.edu/ubuntu jammy InRelease' does not seem to provide it (sources.list entry misspelt?)\n"
          ]
        }
      ]
    },
    {
      "cell_type": "code",
      "execution_count": 3,
      "metadata": {
        "id": "UUMBUoObLUnb"
      },
      "outputs": [],
      "source": [
        "# Import dependencies\n",
        "import os, sys, random, itertools, pathlib, math, shutil, io, requests\n",
        "import numpy as np\n",
        "import matplotlib.pyplot as plt\n",
        "import tensorflow as tf\n",
        "import tqdm as tq\n",
        "from tqdm import tqdm\n",
        "from pathlib import Path\n",
        "from glob import glob\n",
        "from tensorflow.keras import layers, models, mixed_precision\n",
        "from google.colab import drive\n",
        "from sklearn.metrics import classification_report, confusion_matrix\n",
        "from collections import defaultdict\n",
        "from PIL import Image, ImageDraw, ImageFont\n",
        "from typing import Tuple"
      ]
    },
    {
      "cell_type": "code",
      "execution_count": 4,
      "metadata": {
        "id": "91L4Z6naS9gN",
        "outputId": "3c91f35d-d30b-40b1-b666-36eecea5d3e9",
        "colab": {
          "base_uri": "https://localhost:8080/"
        }
      },
      "outputs": [
        {
          "output_type": "stream",
          "name": "stdout",
          "text": [
            "Drive already mounted at /content/drive; to attempt to forcibly remount, call drive.mount(\"/content/drive\", force_remount=True).\n"
          ]
        }
      ],
      "source": [
        "# 1.3 Mount Drive & define base path\n",
        "# Mount Drive so you can read datasets and write checkpoints\n",
        "# Link to Drive:\n",
        "# https://drive.google.com/drive/folders/1sfNG1PkmTPBe1wOSQXZmfdkvR97Hn9lk?usp=sharing\n",
        "drive.mount('/content/drive')"
      ]
    },
    {
      "cell_type": "markdown",
      "metadata": {
        "id": "hiuZCz5QZ-mr"
      },
      "source": [
        "# **2. Constants & Data Generation**\n",
        "This block generates the 'three-letter words' dataset afresh if you do not already have it (You can access it here: https://drive.google.com/drive/folders/1kygA17GiCeCs8qTeDBEndU6TkXnEu-m7?usp=drive_link). It synthesizes three three-letter words from the character dataset (https://drive.google.com/drive/folders/1eUaTNW8zVjTArg0JszbCdCEq0tTdx89n?usp=drive_link)."
      ]
    },
    {
      "cell_type": "code",
      "execution_count": 5,
      "metadata": {
        "id": "KgzKPaWRcDTn"
      },
      "outputs": [],
      "source": [
        "# paths & constants\n",
        "BASE_PATH = Path(\"/content/drive/MyDrive/MScProject\")\n",
        "GLYPH_DIR = Path(f\"{BASE_PATH}/data/characters/train\")\n",
        "DATA_ROOT = Path(f\"{BASE_PATH}/data/words3\")\n",
        "CKPT_DIR = f\"{BASE_PATH}/words3_ckpt_best.keras\"\n",
        "BATCH = 64\n",
        "IMG_H = IMG_W = 64\n",
        "IMG_SHAPE = (IMG_H, IMG_W)\n",
        "PATCH_W = IMG_W // 3\n",
        "VARIANTS_PER = 5 # per word\n",
        "EXPECTED_CLASSES = 26**3 # 26³ = 17,576\n",
        "FINAL_TEST_FRAC = 0.20\n",
        "SEED = 42\n",
        "PATCH_W = IMG_W // 3 # 21 when IMG_W = 64\n",
        "N_VARIANTS = 4 # number of images per class\n",
        "FRACTION = 0.15 # 15 %\n",
        "train_dir = DATA_ROOT / \"train\"\n",
        "test_dir  = DATA_ROOT / \"test\"\n",
        "\n",
        "random.seed(SEED)"
      ]
    },
    {
      "cell_type": "code",
      "source": [
        "\"\"\"\n",
        "- Generates a single ‘train/’ directory with 17,576 class folders (AAA … ZZZ)\n",
        "- Each class contains N_VARIANTS PNG images rendered on-the-fly (no external glyph reuse)\n",
        "- Obfuscation applied per-character (leet + homoglyph + random spacing jitter)\n",
        "- Idempotent: if the train folder already has 17,576 classes it exits immediately\n",
        "\"\"\"\n",
        "\n",
        "def obfuscate_char(ch: str) -> str:\n",
        "  mode = random.choices((\"plain\", \"leet\", \"homo\"), weights=(0.5, 0.4, 0.1))[0]\n",
        "  if mode == \"leet\" and ch in LEET:\n",
        "    return random.choice(LEET[ch])\n",
        "  if mode == \"homo\" and ch in HOMO:\n",
        "    return HOMO[ch]\n",
        "  return ch\n",
        "\n",
        "def render_patch(ch: str) -> Image.Image:\n",
        "  # Return a 64×21 monochrome patch for a single (possibly obfuscated) char\n",
        "  patch = Image.new(\"L\", (PATCH_W, IMG_H), color=255)\n",
        "  draw  = ImageDraw.Draw(patch)\n",
        "  draw.text((4, 4), obfuscate_char(ch), fill=0, font=FONT)\n",
        "  return patch\n",
        "\n",
        "def stitch_word(word: str, out_file: Path):\n",
        "  canvas = Image.new(\"L\", (IMG_W, IMG_H), color=255)\n",
        "  for idx, ch in enumerate(word):\n",
        "    glyph = render_patch(ch)\n",
        "    canvas.paste(glyph, (idx * PATCH_W, 0))\n",
        "  # light horizontal jitter\n",
        "  if random.random() < 0.3:\n",
        "    dx = random.randint(-2, 2)\n",
        "    canvas = canvas.transform(canvas.size, Image.AFFINE, (1, 0, dx, 0, 1, 0))\n",
        "  canvas.save(out_file)\n",
        "\n",
        "AAA = train_dir / \"AAA\"\n",
        "dataset_ready = AAA.is_dir() and any(AAA.glob(\"*.png\"))\n",
        "\n",
        "if dataset_ready:\n",
        "  print(\"words3/train already complete – nothing to do.\")\n",
        "else:\n",
        "  # Define font\n",
        "  try:\n",
        "    FONT_PATH = \"/usr/share/fonts/truetype/roboto/Roboto-Medium.ttf\"\n",
        "    # A big font size makes the letters cut-off at the edges\n",
        "    # when we slice through the images,\n",
        "    # mimicking real-world scenarios where this operation\n",
        "    # may not produce clean cuts of letters\n",
        "    FONT_SIZE = 40\n",
        "    FONT = ImageFont.truetype(FONT_PATH, FONT_SIZE)\n",
        "    print(\"Using Roboto Medium font to generate images\")\n",
        "  except Exception as e:\n",
        "    print(f\"Error loading font: {e}\")\n",
        "    print(\"Using default font to generate images\")\n",
        "    FONT = ImageFont.load_default()\n",
        "\n",
        "  # mapping tables (uppercase only)\n",
        "  LEET = {\n",
        "    'A': ['Α', '4', 'Д', 'Ä', 'Á', 'À', 'Â', '@', 'Δ'],\n",
        "    'B': ['8', 'β', 'Β', 'В'],\n",
        "    'C': ['Ç', 'Ć', 'Č', 'С'],\n",
        "    'D': ['Ð', 'Ď'],\n",
        "    'E': ['3', 'Σ', 'Έ', 'Ε', 'Е', 'Ë', 'É', 'È', 'Ê'],\n",
        "    'F': ['Φ', 'Ƒ'],\n",
        "    'G': ['6', 'Ğ', 'Ģ', 'Γ'],\n",
        "    'H': ['Η', 'Н'],\n",
        "    'I': ['1', '|', 'Í', 'Ì', 'Î', 'Ï', 'И'],\n",
        "    'J': ['Ј'],\n",
        "    'K': ['Κ', 'К'],\n",
        "    'L': ['Ι', 'Ł', 'Ĺ', 'Л'],\n",
        "    'M': ['Μ', 'М'],\n",
        "    'N': ['Ν', 'Ń', 'Ñ', 'Н'],\n",
        "    'O': ['0', 'Θ', 'Ο', 'Ө', 'Ø', 'Ö', 'Ó', 'Ò', 'Ô'],\n",
        "    'P': ['Ρ', 'Р'],\n",
        "    'Q': ['Φ'],\n",
        "    'R': ['®', 'Я', 'Ř', 'Ŕ'],\n",
        "    'S': ['5', '$', 'Ѕ', 'Ś', 'Š'],\n",
        "    'T': ['Τ', 'Т'],\n",
        "    'U': ['Υ', 'Ц', 'Ü', 'Ú', 'Ù', 'Û'],\n",
        "    'V': ['Ѵ', 'V'],\n",
        "    'W': ['Ω', 'Ѡ', 'Ψ', 'Ш', 'Щ'],\n",
        "    'X': ['Χ', 'Ж', 'Х'],\n",
        "    'Y': ['Υ', 'Ү', 'Ý', 'Ÿ'],\n",
        "    'Z': ['Ζ', 'Ż', 'Ź', 'Ž', 'З', '2']\n",
        "  }\n",
        "  HOMO = {\n",
        "    'A':'Α',\n",
        "    'B':'Β',\n",
        "    'C':'С',\n",
        "    'E':'Ε',\n",
        "    'H':'Н',\n",
        "    'K':'Κ',\n",
        "    'M':'Μ',\n",
        "    'O':'О',\n",
        "    'P':'Р',\n",
        "    'T':'Τ',\n",
        "    'X':'Χ',\n",
        "    'Y':'Υ',\n",
        "    'Z':'Ζ'\n",
        "  }\n",
        "\n",
        "  # wipe & rebuild train directory (safe for colab runs)\n",
        "  if train_dir.exists():\n",
        "    shutil.rmtree(train_dir)\n",
        "  train_dir.mkdir(parents=True, exist_ok=True)\n",
        "\n",
        "  # generate every word (AAA … ZZZ)\n",
        "  alphabet = \"ABCDEFGHIJKLMNOPQRSTUVWXYZ\"\n",
        "  all_words = [\"\".join(tpl) for tpl in itertools.product(alphabet, repeat=3)]\n",
        "\n",
        "  for word in tqdm(all_words, desc=\"Generating train\"):\n",
        "    cls_dir = train_dir / word\n",
        "    cls_dir.mkdir(parents=True, exist_ok=True)\n",
        "    for k in range(N_VARIANTS):\n",
        "      stitch_word(word, cls_dir / f\"{word}_{k}.png\")\n",
        "\n",
        "  print(\"Training set complete.\")"
      ],
      "metadata": {
        "id": "-BRxWr1p--pe",
        "outputId": "14ee6c7c-829f-4236-d0e1-22b54d591cc2",
        "colab": {
          "base_uri": "https://localhost:8080/"
        }
      },
      "execution_count": 6,
      "outputs": [
        {
          "output_type": "stream",
          "name": "stdout",
          "text": [
            "words3/train already complete – nothing to do.\n"
          ]
        }
      ]
    },
    {
      "cell_type": "code",
      "source": [
        "\"\"\"\n",
        "- Make a permanent 15 % test split on Drive\n",
        "- Assumes you have a single words3/train/AAA … ZZZ/*.png structure already.\n",
        "- Creates /words3/test/AAA … ZZZ/ and MOVES files (no duplication).\n",
        "- Safe to rerun – will skip classes already processed.\n",
        "\"\"\"\n",
        "import tqdm\n",
        "\n",
        "AAA = test_dir / \"AAA\"\n",
        "dataset_ready = AAA.is_dir() and any(AAA.glob(\"*.png\"))\n",
        "\n",
        "if dataset_ready:\n",
        "  print(\"words3/test already complete – nothing to do.\")\n",
        "else:\n",
        "  test_dir.mkdir(parents=True, exist_ok=True)\n",
        "\n",
        "  # split loop\n",
        "  for cls_dir in tqdm.tqdm([d for d in train_dir.iterdir() if d.is_dir()], desc=\"Creating 15 % test split\"):\n",
        "    tgt_cls = test_dir / cls_dir.name\n",
        "    tgt_cls.mkdir(parents=True, exist_ok=True)\n",
        "\n",
        "    # list PNGs still in train/ for this class (those already moved last run are gone)\n",
        "    imgs = list(cls_dir.glob(\"*.png\"))\n",
        "    if not imgs: # all imgs already moved in a previous run\n",
        "      continue\n",
        "\n",
        "    # number to move: 15% rounded down, but keep ≥1 in train/\n",
        "    n_move = max(1, math.floor(len(imgs) * FRACTION))\n",
        "    n_move = min(n_move, len(imgs) - 1) # safeguard: leave ≥1\n",
        "\n",
        "    random.shuffle(imgs)\n",
        "    for img in imgs[:n_move]:\n",
        "      shutil.move(str(img), tgt_cls / img.name)\n",
        "\n",
        "  print(\"Test split ready.\")\n",
        "  print(\"Train images:\", sum(1 for _ in train_dir.rglob(\"*.png\")))\n",
        "  print(\"Test images:\", sum(1 for _ in test_dir.rglob(\"*.png\")))"
      ],
      "metadata": {
        "id": "61fhBwTlANGK",
        "outputId": "72a33cef-2dcf-4184-fd1d-421a2adb8ead",
        "colab": {
          "base_uri": "https://localhost:8080/"
        }
      },
      "execution_count": 7,
      "outputs": [
        {
          "output_type": "stream",
          "name": "stdout",
          "text": [
            "words3/test already complete – nothing to do.\n"
          ]
        }
      ]
    },
    {
      "cell_type": "markdown",
      "metadata": {
        "id": "nuumCMV4NETu"
      },
      "source": [
        "# **3. Load & Freeze the Single-Char Model**"
      ]
    },
    {
      "cell_type": "code",
      "source": [
        "base_model = tf.keras.models.load_model(f\"{BASE_PATH}/char_cnn_ckpt_best.keras\")\n",
        "base_model.trainable = False # freeze weights initially\n",
        "print(\"Base model frozen — params:\", base_model.count_params())"
      ],
      "metadata": {
        "id": "HIhl-G41Wo7K",
        "outputId": "35191d01-df07-4e17-e067-63e98693ade0",
        "colab": {
          "base_uri": "https://localhost:8080/"
        }
      },
      "execution_count": 8,
      "outputs": [
        {
          "output_type": "stream",
          "name": "stdout",
          "text": [
            "Base model frozen — params: 2455450\n"
          ]
        }
      ]
    },
    {
      "cell_type": "markdown",
      "metadata": {
        "id": "Jc4cJg9cNkwe"
      },
      "source": [
        "# **4. Data Loading & Splitting**"
      ]
    },
    {
      "cell_type": "code",
      "source": [
        "def normalise(img, label):\n",
        "    img = tf.cast(img, tf.float32) / 255.0\n",
        "    return img, label\n",
        "\n",
        "# Train dataset\n",
        "train_ds = tf.keras.preprocessing.image_dataset_from_directory(\n",
        "  train_dir,\n",
        "  labels=\"inferred\",\n",
        "  label_mode=\"categorical\",\n",
        "  batch_size=BATCH,\n",
        "  image_size=IMG_SHAPE,\n",
        "  color_mode=\"grayscale\",\n",
        "  validation_split=0.2,\n",
        "  subset=\"training\",\n",
        "  shuffle=True,\n",
        "  seed=42\n",
        ")\n",
        "\n",
        "# Val dataset\n",
        "val_ds = tf.keras.preprocessing.image_dataset_from_directory(\n",
        "  train_dir,\n",
        "  labels=\"inferred\",\n",
        "  label_mode=\"categorical\",\n",
        "  batch_size=BATCH,\n",
        "  image_size=IMG_SHAPE,\n",
        "  color_mode=\"grayscale\",\n",
        "  validation_split=0.2,\n",
        "  subset=\"validation\",\n",
        "  shuffle=False,\n",
        "  seed=42\n",
        ")\n",
        "\n",
        "# Test dataset\n",
        "test_ds = tf.keras.preprocessing.image_dataset_from_directory(\n",
        "  test_dir,\n",
        "  labels=\"inferred\",\n",
        "  label_mode=\"categorical\",\n",
        "  batch_size=BATCH,\n",
        "  image_size=IMG_SHAPE,\n",
        "  color_mode=\"grayscale\",\n",
        "  shuffle=False\n",
        ")\n",
        "\n",
        "# Generate class names for future reference\n",
        "class_names = train_ds.class_names\n",
        "\n",
        "# Preprocess datasets\n",
        "train_ds = (train_ds\n",
        "            .map(normalise, num_parallel_calls=tf.data.AUTOTUNE)\n",
        "            .apply(tf.data.experimental.ignore_errors())\n",
        "            .prefetch(tf.data.AUTOTUNE))\n",
        "val_ds = (val_ds\n",
        "          .map(normalise, num_parallel_calls=tf.data.AUTOTUNE)\n",
        "          .apply(tf.data.experimental.ignore_errors())\n",
        "          .prefetch(tf.data.AUTOTUNE))\n",
        "test_ds = (test_ds\n",
        "           .map(normalise, num_parallel_calls=tf.data.AUTOTUNE)\n",
        "           .apply(tf.data.experimental.ignore_errors())\n",
        "           .prefetch(tf.data.AUTOTUNE))"
      ],
      "metadata": {
        "id": "JJTNO9W2eOni",
        "outputId": "bfb45f3f-7ce2-47b0-f79f-56812ce4b272",
        "colab": {
          "base_uri": "https://localhost:8080/"
        }
      },
      "execution_count": 9,
      "outputs": [
        {
          "output_type": "stream",
          "name": "stdout",
          "text": [
            "Found 52728 files belonging to 17576 classes.\n",
            "Using 42183 files for training.\n",
            "Found 52728 files belonging to 17576 classes.\n",
            "Using 10545 files for validation.\n",
            "Found 17576 files belonging to 17576 classes.\n"
          ]
        },
        {
          "output_type": "stream",
          "name": "stderr",
          "text": [
            "WARNING:tensorflow:From <ipython-input-9-0f7684119c10>:50: ignore_errors (from tensorflow.python.data.experimental.ops.error_ops) is deprecated and will be removed in a future version.\n",
            "Instructions for updating:\n",
            "Use `tf.data.Dataset.ignore_errors` instead.\n"
          ]
        }
      ]
    },
    {
      "cell_type": "markdown",
      "source": [
        "# **5. Visual Sanity Check**"
      ],
      "metadata": {
        "id": "6b3XnHPMxyen"
      }
    },
    {
      "cell_type": "code",
      "source": [
        "# Utility to display examples from each set\n",
        "def show_examples(ds, ds_name, num=5):\n",
        "  # Take one batch\n",
        "  for images, labels in ds.take(1):\n",
        "    images = images.numpy()\n",
        "    labels = labels.numpy()\n",
        "    break\n",
        "\n",
        "  plt.figure(figsize=(6,6))\n",
        "  for i in range(num):\n",
        "    ax = plt.subplot(3, 3, i+1)\n",
        "    img = images[i].squeeze()  # shape: (H,W) since grayscale\n",
        "    lbl = class_names[labels[i].argmax()]\n",
        "    plt.imshow(img, cmap='gray')\n",
        "    plt.title(f\"{ds_name}: {lbl}\")\n",
        "    plt.axis('off')\n",
        "  plt.tight_layout()\n",
        "  plt.show()\n",
        "\n",
        "# Display 5 examples from each split\n",
        "show_examples(train_ds, \"Train\")\n",
        "show_examples(val_ds, \"Val\")\n",
        "show_examples(test_ds, \"Test\")"
      ],
      "metadata": {
        "id": "CsR_L_nSsN_T",
        "outputId": "dadd98fd-8850-46cb-e0c2-c9c9a7df656c",
        "colab": {
          "base_uri": "https://localhost:8080/",
          "height": 1000
        }
      },
      "execution_count": 10,
      "outputs": [
        {
          "output_type": "display_data",
          "data": {
            "text/plain": [
              "<Figure size 600x600 with 5 Axes>"
            ],
            "image/png": "[encoded data removed]"
          },
          "metadata": {}
        },
        {
          "output_type": "display_data",
          "data": {
            "text/plain": [
              "<Figure size 600x600 with 5 Axes>"
            ],
            "image/png": "[encoded data removed]"
          },
          "metadata": {}
        },
        {
          "output_type": "display_data",
          "data": {
            "text/plain": [
              "<Figure size 600x600 with 5 Axes>"
            ],
            "image/png": "[encoded data removed]"
          },
          "metadata": {}
        }
      ]
    },
    {
      "cell_type": "markdown",
      "metadata": {
        "id": "i4xIlbVLN-hN"
      },
      "source": [
        "# **6. Build the Sliding-Window Model**"
      ]
    },
    {
      "cell_type": "code",
      "execution_count": 11,
      "metadata": {
        "id": "jVuQewrCOAhv",
        "outputId": "cd56befd-e122-40a1-d69d-cb1e19d2dee1",
        "colab": {
          "base_uri": "https://localhost:8080/",
          "height": 561
        }
      },
      "outputs": [
        {
          "output_type": "display_data",
          "data": {
            "text/plain": [
              "\u001b[1mModel: \"functional\"\u001b[0m\n"
            ],
            "text/html": [
              "<pre style=\"white-space:pre;overflow-x:auto;line-height:normal;font-family:Menlo,'DejaVu Sans Mono',consolas,'Courier New',monospace\"><span style=\"font-weight: bold\">Model: \"functional\"</span>\n",
              "</pre>\n"
            ]
          },
          "metadata": {}
        },
        {
          "output_type": "display_data",
          "data": {
            "text/plain": [
              "┏━━━━━━━━━━━━━━━━━━━━━┳━━━━━━━━━━━━━━━━━━━┳━━━━━━━━━━━━┳━━━━━━━━━━━━━━━━━━━┓\n",
              "┃\u001b[1m \u001b[0m\u001b[1mLayer (type)       \u001b[0m\u001b[1m \u001b[0m┃\u001b[1m \u001b[0m\u001b[1mOutput Shape     \u001b[0m\u001b[1m \u001b[0m┃\u001b[1m \u001b[0m\u001b[1m   Param #\u001b[0m\u001b[1m \u001b[0m┃\u001b[1m \u001b[0m\u001b[1mConnected to     \u001b[0m\u001b[1m \u001b[0m┃\n",
              "┡━━━━━━━━━━━━━━━━━━━━━╇━━━━━━━━━━━━━━━━━━━╇━━━━━━━━━━━━╇━━━━━━━━━━━━━━━━━━━┩\n",
              "│ input_layer         │ (\u001b[38;5;45mNone\u001b[0m, \u001b[38;5;34m64\u001b[0m, \u001b[38;5;34m64\u001b[0m, \u001b[38;5;34m1\u001b[0m) │          \u001b[38;5;34m0\u001b[0m │ -                 │\n",
              "│ (\u001b[38;5;33mInputLayer\u001b[0m)        │                   │            │                   │\n",
              "├─────────────────────┼───────────────────┼────────────┼───────────────────┤\n",
              "│ lambda (\u001b[38;5;33mLambda\u001b[0m)     │ (\u001b[38;5;45mNone\u001b[0m, \u001b[38;5;34m64\u001b[0m, \u001b[38;5;34m21\u001b[0m, \u001b[38;5;34m1\u001b[0m) │          \u001b[38;5;34m0\u001b[0m │ input_layer[\u001b[38;5;34m0\u001b[0m][\u001b[38;5;34m0\u001b[0m] │\n",
              "├─────────────────────┼───────────────────┼────────────┼───────────────────┤\n",
              "│ lambda_1 (\u001b[38;5;33mLambda\u001b[0m)   │ (\u001b[38;5;45mNone\u001b[0m, \u001b[38;5;34m64\u001b[0m, \u001b[38;5;34m21\u001b[0m, \u001b[38;5;34m1\u001b[0m) │          \u001b[38;5;34m0\u001b[0m │ input_layer[\u001b[38;5;34m0\u001b[0m][\u001b[38;5;34m0\u001b[0m] │\n",
              "├─────────────────────┼───────────────────┼────────────┼───────────────────┤\n",
              "│ lambda_2 (\u001b[38;5;33mLambda\u001b[0m)   │ (\u001b[38;5;45mNone\u001b[0m, \u001b[38;5;34m64\u001b[0m, \u001b[38;5;34m21\u001b[0m, \u001b[38;5;34m1\u001b[0m) │          \u001b[38;5;34m0\u001b[0m │ input_layer[\u001b[38;5;34m0\u001b[0m][\u001b[38;5;34m0\u001b[0m] │\n",
              "├─────────────────────┼───────────────────┼────────────┼───────────────────┤\n",
              "│ resizing (\u001b[38;5;33mResizing\u001b[0m) │ (\u001b[38;5;45mNone\u001b[0m, \u001b[38;5;34m64\u001b[0m, \u001b[38;5;34m64\u001b[0m, \u001b[38;5;34m1\u001b[0m) │          \u001b[38;5;34m0\u001b[0m │ lambda[\u001b[38;5;34m0\u001b[0m][\u001b[38;5;34m0\u001b[0m]      │\n",
              "├─────────────────────┼───────────────────┼────────────┼───────────────────┤\n",
              "│ resizing_1          │ (\u001b[38;5;45mNone\u001b[0m, \u001b[38;5;34m64\u001b[0m, \u001b[38;5;34m64\u001b[0m, \u001b[38;5;34m1\u001b[0m) │          \u001b[38;5;34m0\u001b[0m │ lambda_1[\u001b[38;5;34m0\u001b[0m][\u001b[38;5;34m0\u001b[0m]    │\n",
              "│ (\u001b[38;5;33mResizing\u001b[0m)          │                   │            │                   │\n",
              "├─────────────────────┼───────────────────┼────────────┼───────────────────┤\n",
              "│ resizing_2          │ (\u001b[38;5;45mNone\u001b[0m, \u001b[38;5;34m64\u001b[0m, \u001b[38;5;34m64\u001b[0m, \u001b[38;5;34m1\u001b[0m) │          \u001b[38;5;34m0\u001b[0m │ lambda_2[\u001b[38;5;34m0\u001b[0m][\u001b[38;5;34m0\u001b[0m]    │\n",
              "│ (\u001b[38;5;33mResizing\u001b[0m)          │                   │            │                   │\n",
              "├─────────────────────┼───────────────────┼────────────┼───────────────────┤\n",
              "│ functional_1        │ (\u001b[38;5;45mNone\u001b[0m, \u001b[38;5;34m26\u001b[0m)        │  \u001b[38;5;34m2,455,450\u001b[0m │ resizing[\u001b[38;5;34m0\u001b[0m][\u001b[38;5;34m0\u001b[0m],   │\n",
              "│ (\u001b[38;5;33mFunctional\u001b[0m)        │                   │            │ resizing_1[\u001b[38;5;34m0\u001b[0m][\u001b[38;5;34m0\u001b[0m], │\n",
              "│                     │                   │            │ resizing_2[\u001b[38;5;34m0\u001b[0m][\u001b[38;5;34m0\u001b[0m]  │\n",
              "├─────────────────────┼───────────────────┼────────────┼───────────────────┤\n",
              "│ concatenate         │ (\u001b[38;5;45mNone\u001b[0m, \u001b[38;5;34m78\u001b[0m)        │          \u001b[38;5;34m0\u001b[0m │ functional_1[\u001b[38;5;34m0\u001b[0m][\u001b[38;5;34m…\u001b[0m │\n",
              "│ (\u001b[38;5;33mConcatenate\u001b[0m)       │                   │            │ functional_1[\u001b[38;5;34m1\u001b[0m][\u001b[38;5;34m…\u001b[0m │\n",
              "│                     │                   │            │ functional_1[\u001b[38;5;34m2\u001b[0m][\u001b[38;5;34m…\u001b[0m │\n",
              "├─────────────────────┼───────────────────┼────────────┼───────────────────┤\n",
              "│ dense_1 (\u001b[38;5;33mDense\u001b[0m)     │ (\u001b[38;5;45mNone\u001b[0m, \u001b[38;5;34m17576\u001b[0m)     │  \u001b[38;5;34m1,388,504\u001b[0m │ concatenate[\u001b[38;5;34m0\u001b[0m][\u001b[38;5;34m0\u001b[0m] │\n",
              "└─────────────────────┴───────────────────┴────────────┴───────────────────┘\n"
            ],
            "text/html": [
              "<pre style=\"white-space:pre;overflow-x:auto;line-height:normal;font-family:Menlo,'DejaVu Sans Mono',consolas,'Courier New',monospace\">┏━━━━━━━━━━━━━━━━━━━━━┳━━━━━━━━━━━━━━━━━━━┳━━━━━━━━━━━━┳━━━━━━━━━━━━━━━━━━━┓\n",
              "┃<span style=\"font-weight: bold\"> Layer (type)        </span>┃<span style=\"font-weight: bold\"> Output Shape      </span>┃<span style=\"font-weight: bold\">    Param # </span>┃<span style=\"font-weight: bold\"> Connected to      </span>┃\n",
              "┡━━━━━━━━━━━━━━━━━━━━━╇━━━━━━━━━━━━━━━━━━━╇━━━━━━━━━━━━╇━━━━━━━━━━━━━━━━━━━┩\n",
              "│ input_layer         │ (<span style=\"color: #00d7ff; text-decoration-color: #00d7ff\">None</span>, <span style=\"color: #00af00; text-decoration-color: #00af00\">64</span>, <span style=\"color: #00af00; text-decoration-color: #00af00\">64</span>, <span style=\"color: #00af00; text-decoration-color: #00af00\">1</span>) │          <span style=\"color: #00af00; text-decoration-color: #00af00\">0</span> │ -                 │\n",
              "│ (<span style=\"color: #0087ff; text-decoration-color: #0087ff\">InputLayer</span>)        │                   │            │                   │\n",
              "├─────────────────────┼───────────────────┼────────────┼───────────────────┤\n",
              "│ lambda (<span style=\"color: #0087ff; text-decoration-color: #0087ff\">Lambda</span>)     │ (<span style=\"color: #00d7ff; text-decoration-color: #00d7ff\">None</span>, <span style=\"color: #00af00; text-decoration-color: #00af00\">64</span>, <span style=\"color: #00af00; text-decoration-color: #00af00\">21</span>, <span style=\"color: #00af00; text-decoration-color: #00af00\">1</span>) │          <span style=\"color: #00af00; text-decoration-color: #00af00\">0</span> │ input_layer[<span style=\"color: #00af00; text-decoration-color: #00af00\">0</span>][<span style=\"color: #00af00; text-decoration-color: #00af00\">0</span>] │\n",
              "├─────────────────────┼───────────────────┼────────────┼───────────────────┤\n",
              "│ lambda_1 (<span style=\"color: #0087ff; text-decoration-color: #0087ff\">Lambda</span>)   │ (<span style=\"color: #00d7ff; text-decoration-color: #00d7ff\">None</span>, <span style=\"color: #00af00; text-decoration-color: #00af00\">64</span>, <span style=\"color: #00af00; text-decoration-color: #00af00\">21</span>, <span style=\"color: #00af00; text-decoration-color: #00af00\">1</span>) │          <span style=\"color: #00af00; text-decoration-color: #00af00\">0</span> │ input_layer[<span style=\"color: #00af00; text-decoration-color: #00af00\">0</span>][<span style=\"color: #00af00; text-decoration-color: #00af00\">0</span>] │\n",
              "├─────────────────────┼───────────────────┼────────────┼───────────────────┤\n",
              "│ lambda_2 (<span style=\"color: #0087ff; text-decoration-color: #0087ff\">Lambda</span>)   │ (<span style=\"color: #00d7ff; text-decoration-color: #00d7ff\">None</span>, <span style=\"color: #00af00; text-decoration-color: #00af00\">64</span>, <span style=\"color: #00af00; text-decoration-color: #00af00\">21</span>, <span style=\"color: #00af00; text-decoration-color: #00af00\">1</span>) │          <span style=\"color: #00af00; text-decoration-color: #00af00\">0</span> │ input_layer[<span style=\"color: #00af00; text-decoration-color: #00af00\">0</span>][<span style=\"color: #00af00; text-decoration-color: #00af00\">0</span>] │\n",
              "├─────────────────────┼───────────────────┼────────────┼───────────────────┤\n",
              "│ resizing (<span style=\"color: #0087ff; text-decoration-color: #0087ff\">Resizing</span>) │ (<span style=\"color: #00d7ff; text-decoration-color: #00d7ff\">None</span>, <span style=\"color: #00af00; text-decoration-color: #00af00\">64</span>, <span style=\"color: #00af00; text-decoration-color: #00af00\">64</span>, <span style=\"color: #00af00; text-decoration-color: #00af00\">1</span>) │          <span style=\"color: #00af00; text-decoration-color: #00af00\">0</span> │ lambda[<span style=\"color: #00af00; text-decoration-color: #00af00\">0</span>][<span style=\"color: #00af00; text-decoration-color: #00af00\">0</span>]      │\n",
              "├─────────────────────┼───────────────────┼────────────┼───────────────────┤\n",
              "│ resizing_1          │ (<span style=\"color: #00d7ff; text-decoration-color: #00d7ff\">None</span>, <span style=\"color: #00af00; text-decoration-color: #00af00\">64</span>, <span style=\"color: #00af00; text-decoration-color: #00af00\">64</span>, <span style=\"color: #00af00; text-decoration-color: #00af00\">1</span>) │          <span style=\"color: #00af00; text-decoration-color: #00af00\">0</span> │ lambda_1[<span style=\"color: #00af00; text-decoration-color: #00af00\">0</span>][<span style=\"color: #00af00; text-decoration-color: #00af00\">0</span>]    │\n",
              "│ (<span style=\"color: #0087ff; text-decoration-color: #0087ff\">Resizing</span>)          │                   │            │                   │\n",
              "├─────────────────────┼───────────────────┼────────────┼───────────────────┤\n",
              "│ resizing_2          │ (<span style=\"color: #00d7ff; text-decoration-color: #00d7ff\">None</span>, <span style=\"color: #00af00; text-decoration-color: #00af00\">64</span>, <span style=\"color: #00af00; text-decoration-color: #00af00\">64</span>, <span style=\"color: #00af00; text-decoration-color: #00af00\">1</span>) │          <span style=\"color: #00af00; text-decoration-color: #00af00\">0</span> │ lambda_2[<span style=\"color: #00af00; text-decoration-color: #00af00\">0</span>][<span style=\"color: #00af00; text-decoration-color: #00af00\">0</span>]    │\n",
              "│ (<span style=\"color: #0087ff; text-decoration-color: #0087ff\">Resizing</span>)          │                   │            │                   │\n",
              "├─────────────────────┼───────────────────┼────────────┼───────────────────┤\n",
              "│ functional_1        │ (<span style=\"color: #00d7ff; text-decoration-color: #00d7ff\">None</span>, <span style=\"color: #00af00; text-decoration-color: #00af00\">26</span>)        │  <span style=\"color: #00af00; text-decoration-color: #00af00\">2,455,450</span> │ resizing[<span style=\"color: #00af00; text-decoration-color: #00af00\">0</span>][<span style=\"color: #00af00; text-decoration-color: #00af00\">0</span>],   │\n",
              "│ (<span style=\"color: #0087ff; text-decoration-color: #0087ff\">Functional</span>)        │                   │            │ resizing_1[<span style=\"color: #00af00; text-decoration-color: #00af00\">0</span>][<span style=\"color: #00af00; text-decoration-color: #00af00\">0</span>], │\n",
              "│                     │                   │            │ resizing_2[<span style=\"color: #00af00; text-decoration-color: #00af00\">0</span>][<span style=\"color: #00af00; text-decoration-color: #00af00\">0</span>]  │\n",
              "├─────────────────────┼───────────────────┼────────────┼───────────────────┤\n",
              "│ concatenate         │ (<span style=\"color: #00d7ff; text-decoration-color: #00d7ff\">None</span>, <span style=\"color: #00af00; text-decoration-color: #00af00\">78</span>)        │          <span style=\"color: #00af00; text-decoration-color: #00af00\">0</span> │ functional_1[<span style=\"color: #00af00; text-decoration-color: #00af00\">0</span>][<span style=\"color: #00af00; text-decoration-color: #00af00\">…</span> │\n",
              "│ (<span style=\"color: #0087ff; text-decoration-color: #0087ff\">Concatenate</span>)       │                   │            │ functional_1[<span style=\"color: #00af00; text-decoration-color: #00af00\">1</span>][<span style=\"color: #00af00; text-decoration-color: #00af00\">…</span> │\n",
              "│                     │                   │            │ functional_1[<span style=\"color: #00af00; text-decoration-color: #00af00\">2</span>][<span style=\"color: #00af00; text-decoration-color: #00af00\">…</span> │\n",
              "├─────────────────────┼───────────────────┼────────────┼───────────────────┤\n",
              "│ dense_1 (<span style=\"color: #0087ff; text-decoration-color: #0087ff\">Dense</span>)     │ (<span style=\"color: #00d7ff; text-decoration-color: #00d7ff\">None</span>, <span style=\"color: #00af00; text-decoration-color: #00af00\">17576</span>)     │  <span style=\"color: #00af00; text-decoration-color: #00af00\">1,388,504</span> │ concatenate[<span style=\"color: #00af00; text-decoration-color: #00af00\">0</span>][<span style=\"color: #00af00; text-decoration-color: #00af00\">0</span>] │\n",
              "└─────────────────────┴───────────────────┴────────────┴───────────────────┘\n",
              "</pre>\n"
            ]
          },
          "metadata": {}
        },
        {
          "output_type": "display_data",
          "data": {
            "text/plain": [
              "\u001b[1m Total params: \u001b[0m\u001b[38;5;34m3,843,954\u001b[0m (14.66 MB)\n"
            ],
            "text/html": [
              "<pre style=\"white-space:pre;overflow-x:auto;line-height:normal;font-family:Menlo,'DejaVu Sans Mono',consolas,'Courier New',monospace\"><span style=\"font-weight: bold\"> Total params: </span><span style=\"color: #00af00; text-decoration-color: #00af00\">3,843,954</span> (14.66 MB)\n",
              "</pre>\n"
            ]
          },
          "metadata": {}
        },
        {
          "output_type": "display_data",
          "data": {
            "text/plain": [
              "\u001b[1m Trainable params: \u001b[0m\u001b[38;5;34m1,388,504\u001b[0m (5.30 MB)\n"
            ],
            "text/html": [
              "<pre style=\"white-space:pre;overflow-x:auto;line-height:normal;font-family:Menlo,'DejaVu Sans Mono',consolas,'Courier New',monospace\"><span style=\"font-weight: bold\"> Trainable params: </span><span style=\"color: #00af00; text-decoration-color: #00af00\">1,388,504</span> (5.30 MB)\n",
              "</pre>\n"
            ]
          },
          "metadata": {}
        },
        {
          "output_type": "display_data",
          "data": {
            "text/plain": [
              "\u001b[1m Non-trainable params: \u001b[0m\u001b[38;5;34m2,455,450\u001b[0m (9.37 MB)\n"
            ],
            "text/html": [
              "<pre style=\"white-space:pre;overflow-x:auto;line-height:normal;font-family:Menlo,'DejaVu Sans Mono',consolas,'Courier New',monospace\"><span style=\"font-weight: bold\"> Non-trainable params: </span><span style=\"color: #00af00; text-decoration-color: #00af00\">2,455,450</span> (9.37 MB)\n",
              "</pre>\n"
            ]
          },
          "metadata": {}
        }
      ],
      "source": [
        "def extract_patch(x, idx):\n",
        "  start = idx * PATCH_W\n",
        "  return x[:, :, start:start+PATCH_W, :] # (None, 64, 21, 1)\n",
        "\n",
        "inputs = tf.keras.Input(shape=(IMG_H, IMG_W, 1))\n",
        "logits = []\n",
        "for i in range(3):\n",
        "  patch = layers.Lambda(lambda z, i=i: extract_patch(z, i))(inputs)\n",
        "  patch = layers.Resizing(IMG_H, IMG_H)(patch) # -> (64 x 64 x 1)\n",
        "  # Re-use frozen base_model (shared weights)\n",
        "  logits.append(base_model(patch)) # (None, 26)\n",
        "concat = layers.Concatenate()(logits) # (None, 78)\n",
        "\n",
        "# FC + ReLU\n",
        "x = layers.Dense(256, activation='relu')(concat)\n",
        "\n",
        "# Dropout Regularisation\n",
        "x = layers.Dropout(0.5)(x)\n",
        "\n",
        "# Output\n",
        "outputs = layers.Dense(EXPECTED_CLASSES, activation='softmax')(x)\n",
        "\n",
        "# Create model & print summary\n",
        "model = models.Model(inputs, outputs)\n",
        "model.summary()"
      ]
    },
    {
      "cell_type": "markdown",
      "metadata": {
        "id": "iWVbhlvKOMjg"
      },
      "source": [
        "# **7. Compilation & Callbacks**"
      ]
    },
    {
      "cell_type": "code",
      "execution_count": 12,
      "metadata": {
        "id": "ifsAp6O1OOrx"
      },
      "outputs": [],
      "source": [
        "# Compile model\n",
        "model.compile(\n",
        "  optimizer=tf.keras.optimizers.Adam(1e-3),\n",
        "  loss='categorical_crossentropy',\n",
        "  metrics=['accuracy']\n",
        ")\n",
        "\n",
        "# Callbacks\n",
        "# 1. Checkpoint\n",
        "ckpt = tf.keras.callbacks.ModelCheckpoint(\n",
        "    CKPT_DIR,\n",
        "    save_best_only=True, # keep only the best model\n",
        "    monitor='val_loss'\n",
        ")\n",
        "\n",
        "# 2. Early stopping\n",
        "es = tf.keras.callbacks.EarlyStopping(\n",
        "    monitor='val_loss',\n",
        "    patience=5, # stop ~5 epochs after val_loss stalls\n",
        "    restore_best_weights=True\n",
        ")\n",
        "\n",
        "# 3. LR Scheduler\n",
        "lr_s = tf.keras.callbacks.ReduceLROnPlateau(\n",
        "    monitor='val_loss',\n",
        "    factor=0.5,\n",
        "    patience=2,\n",
        "    min_lr=1e-6\n",
        ")\n",
        "\n",
        "cb = [ckpt, es, lr_s]"
      ]
    },
    {
      "cell_type": "markdown",
      "metadata": {
        "id": "XPi4tnFGOS4R"
      },
      "source": [
        "# **8. Train**"
      ]
    },
    {
      "cell_type": "code",
      "execution_count": 13,
      "metadata": {
        "id": "2aai8C7KOVVh",
        "outputId": "d1016e29-d4a5-4862-a2bf-eecc1b0f52a2",
        "colab": {
          "base_uri": "https://localhost:8080/"
        }
      },
      "outputs": [
        {
          "output_type": "stream",
          "name": "stdout",
          "text": [
            "Epoch 1/20\n",
            "    659/Unknown \u001b[1m205s\u001b[0m 308ms/step - accuracy: 3.3899e-04 - loss: 9.7918"
          ]
        },
        {
          "output_type": "stream",
          "name": "stderr",
          "text": [
            "/usr/local/lib/python3.11/dist-packages/keras/src/trainers/epoch_iterator.py:151: UserWarning: Your input ran out of data; interrupting training. Make sure that your dataset or generator can generate at least `steps_per_epoch * epochs` batches. You may need to use the `.repeat()` function when building your dataset.\n",
            "  self._interrupted_warning()\n"
          ]
        },
        {
          "output_type": "stream",
          "name": "stdout",
          "text": [
            "\b\b\b\b\b\b\b\b\b\b\b\b\b\b\b\b\b\b\b\b\b\b\b\b\b\b\b\b\b\b\b\b\b\b\b\b\b\b\b\b\b\b\b\b\b\b\b\b\b\b\b\b\b\b\b\b\b\b\b\b\b\b\b\b\b\b\b\b\b\r\u001b[1m660/660\u001b[0m \u001b[32m━━━━━━━━━━━━━━━━━━━━\u001b[0m\u001b[37m\u001b[0m \u001b[1m250s\u001b[0m 376ms/step - accuracy: 3.3933e-04 - loss: 9.7918 - val_accuracy: 0.0216 - val_loss: 9.4072 - learning_rate: 0.0010\n",
            "Epoch 2/20\n",
            "\u001b[1m660/660\u001b[0m \u001b[32m━━━━━━━━━━━━━━━━━━━━\u001b[0m\u001b[37m\u001b[0m \u001b[1m254s\u001b[0m 385ms/step - accuracy: 0.0192 - loss: 9.1584 - val_accuracy: 0.0509 - val_loss: 8.9925 - learning_rate: 0.0010\n",
            "Epoch 3/20\n",
            "\u001b[1m660/660\u001b[0m \u001b[32m━━━━━━━━━━━━━━━━━━━━\u001b[0m\u001b[37m\u001b[0m \u001b[1m250s\u001b[0m 378ms/step - accuracy: 0.0406 - loss: 8.8326 - val_accuracy: 0.0759 - val_loss: 8.6767 - learning_rate: 0.0010\n",
            "Epoch 4/20\n",
            "\u001b[1m660/660\u001b[0m \u001b[32m━━━━━━━━━━━━━━━━━━━━\u001b[0m\u001b[37m\u001b[0m \u001b[1m253s\u001b[0m 382ms/step - accuracy: 0.0564 - loss: 8.5790 - val_accuracy: 0.0962 - val_loss: 8.4152 - learning_rate: 0.0010\n",
            "Epoch 5/20\n",
            "\u001b[1m660/660\u001b[0m \u001b[32m━━━━━━━━━━━━━━━━━━━━\u001b[0m\u001b[37m\u001b[0m \u001b[1m253s\u001b[0m 382ms/step - accuracy: 0.0712 - loss: 8.3683 - val_accuracy: 0.1098 - val_loss: 8.1875 - learning_rate: 0.0010\n",
            "Epoch 6/20\n",
            "\u001b[1m660/660\u001b[0m \u001b[32m━━━━━━━━━━━━━━━━━━━━\u001b[0m\u001b[37m\u001b[0m \u001b[1m249s\u001b[0m 377ms/step - accuracy: 0.0723 - loss: 8.1862 - val_accuracy: 0.1209 - val_loss: 7.9839 - learning_rate: 0.0010\n",
            "Epoch 7/20\n",
            "\u001b[1m660/660\u001b[0m \u001b[32m━━━━━━━━━━━━━━━━━━━━\u001b[0m\u001b[37m\u001b[0m \u001b[1m253s\u001b[0m 382ms/step - accuracy: 0.0815 - loss: 8.0266 - val_accuracy: 0.1299 - val_loss: 7.7980 - learning_rate: 0.0010\n",
            "Epoch 8/20\n",
            "\u001b[1m660/660\u001b[0m \u001b[32m━━━━━━━━━━━━━━━━━━━━\u001b[0m\u001b[37m\u001b[0m \u001b[1m254s\u001b[0m 385ms/step - accuracy: 0.0857 - loss: 7.8732 - val_accuracy: 0.1411 - val_loss: 7.6264 - learning_rate: 0.0010\n",
            "Epoch 9/20\n",
            "\u001b[1m660/660\u001b[0m \u001b[32m━━━━━━━━━━━━━━━━━━━━\u001b[0m\u001b[37m\u001b[0m \u001b[1m251s\u001b[0m 380ms/step - accuracy: 0.0872 - loss: 7.7411 - val_accuracy: 0.1495 - val_loss: 7.4668 - learning_rate: 0.0010\n",
            "Epoch 10/20\n",
            "\u001b[1m660/660\u001b[0m \u001b[32m━━━━━━━━━━━━━━━━━━━━\u001b[0m\u001b[37m\u001b[0m \u001b[1m253s\u001b[0m 383ms/step - accuracy: 0.0926 - loss: 7.6145 - val_accuracy: 0.1592 - val_loss: 7.3178 - learning_rate: 0.0010\n",
            "Epoch 11/20\n",
            "\u001b[1m660/660\u001b[0m \u001b[32m━━━━━━━━━━━━━━━━━━━━\u001b[0m\u001b[37m\u001b[0m \u001b[1m252s\u001b[0m 381ms/step - accuracy: 0.0933 - loss: 7.5003 - val_accuracy: 0.1652 - val_loss: 7.1778 - learning_rate: 0.0010\n",
            "Epoch 12/20\n",
            "\u001b[1m660/660\u001b[0m \u001b[32m━━━━━━━━━━━━━━━━━━━━\u001b[0m\u001b[37m\u001b[0m \u001b[1m252s\u001b[0m 381ms/step - accuracy: 0.0972 - loss: 7.3834 - val_accuracy: 0.1720 - val_loss: 7.0456 - learning_rate: 0.0010\n",
            "Epoch 13/20\n",
            "\u001b[1m660/660\u001b[0m \u001b[32m━━━━━━━━━━━━━━━━━━━━\u001b[0m\u001b[37m\u001b[0m \u001b[1m249s\u001b[0m 378ms/step - accuracy: 0.0987 - loss: 7.2841 - val_accuracy: 0.1785 - val_loss: 6.9206 - learning_rate: 0.0010\n",
            "Epoch 14/20\n",
            "\u001b[1m660/660\u001b[0m \u001b[32m━━━━━━━━━━━━━━━━━━━━\u001b[0m\u001b[37m\u001b[0m \u001b[1m248s\u001b[0m 376ms/step - accuracy: 0.1015 - loss: 7.1821 - val_accuracy: 0.1844 - val_loss: 6.8027 - learning_rate: 0.0010\n",
            "Epoch 15/20\n",
            "\u001b[1m660/660\u001b[0m \u001b[32m━━━━━━━━━━━━━━━━━━━━\u001b[0m\u001b[37m\u001b[0m \u001b[1m253s\u001b[0m 382ms/step - accuracy: 0.0999 - loss: 7.0946 - val_accuracy: 0.1917 - val_loss: 6.6909 - learning_rate: 0.0010\n",
            "Epoch 16/20\n",
            "\u001b[1m660/660\u001b[0m \u001b[32m━━━━━━━━━━━━━━━━━━━━\u001b[0m\u001b[37m\u001b[0m \u001b[1m249s\u001b[0m 377ms/step - accuracy: 0.1040 - loss: 7.0016 - val_accuracy: 0.1980 - val_loss: 6.5849 - learning_rate: 0.0010\n",
            "Epoch 17/20\n",
            "\u001b[1m660/660\u001b[0m \u001b[32m━━━━━━━━━━━━━━━━━━━━\u001b[0m\u001b[37m\u001b[0m \u001b[1m246s\u001b[0m 373ms/step - accuracy: 0.1007 - loss: 6.9201 - val_accuracy: 0.2037 - val_loss: 6.4841 - learning_rate: 0.0010\n",
            "Epoch 18/20\n",
            "\u001b[1m660/660\u001b[0m \u001b[32m━━━━━━━━━━━━━━━━━━━━\u001b[0m\u001b[37m\u001b[0m \u001b[1m255s\u001b[0m 386ms/step - accuracy: 0.1045 - loss: 6.8380 - val_accuracy: 0.2089 - val_loss: 6.3882 - learning_rate: 0.0010\n",
            "Epoch 19/20\n",
            "\u001b[1m660/660\u001b[0m \u001b[32m━━━━━━━━━━━━━━━━━━━━\u001b[0m\u001b[37m\u001b[0m \u001b[1m255s\u001b[0m 386ms/step - accuracy: 0.1118 - loss: 6.7565 - val_accuracy: 0.2148 - val_loss: 6.2969 - learning_rate: 0.0010\n",
            "Epoch 20/20\n",
            "\u001b[1m660/660\u001b[0m \u001b[32m━━━━━━━━━━━━━━━━━━━━\u001b[0m\u001b[37m\u001b[0m \u001b[1m257s\u001b[0m 389ms/step - accuracy: 0.1103 - loss: 6.6892 - val_accuracy: 0.2190 - val_loss: 6.2095 - learning_rate: 0.0010\n"
          ]
        }
      ],
      "source": [
        "# Train the model\n",
        "history = model.fit(\n",
        "  train_ds,\n",
        "  validation_data=val_ds,\n",
        "  epochs=20,\n",
        "  callbacks=cb\n",
        ")"
      ]
    },
    {
      "cell_type": "markdown",
      "source": [
        "# **9. (Optional) Unfreeze last N Conv Blocks and Re-train**\n",
        "If accuracy is low, you should try unfreezing the last conv blocks of the character model."
      ],
      "metadata": {
        "id": "wXXbBkr8l5dY"
      }
    },
    {
      "cell_type": "code",
      "source": [
        "def unfreeze_last_conv_blocks(base_model, N=1):\n",
        "    \"\"\"\n",
        "    Set `trainable=True` for the last N Conv2D layers (+ their following\n",
        "    BatchNorm, ReLU, etc. if present) in `base_model`.  All earlier layers\n",
        "    remain frozen.\n",
        "\n",
        "    Parameters\n",
        "    ----------\n",
        "    base_model : tf.keras.Model\n",
        "        The pretrained character-classifier model.\n",
        "    N : int\n",
        "        How many of the deepest Conv2D layers (counted from the output side)\n",
        "        to unfreeze.\n",
        "    \"\"\"\n",
        "    # 1) Freeze everything first\n",
        "    for layer in base_model.layers:\n",
        "        layer.trainable = False\n",
        "\n",
        "    # 2) Collect indices of all Conv2D layers\n",
        "    conv_idx = [idx for idx, layer in enumerate(base_model.layers)\n",
        "                if isinstance(layer, tf.keras.layers.Conv2D)]\n",
        "\n",
        "    # 3) Decide which indices to unfreeze (last N)\n",
        "    if N > len(conv_idx):\n",
        "        raise ValueError(f\"Model only has {len(conv_idx)} Conv2D layers, \"\n",
        "                         f\"cannot unfreeze {N}\")\n",
        "\n",
        "    to_unfreeze = conv_idx[-N:]\n",
        "\n",
        "    # 4) Unfreeze selected Conv2D layers *and* everything that follows them\n",
        "    #    (so the gradient flows through BN / ReLU / Dense that depend on them)\n",
        "    for idx in to_unfreeze:\n",
        "        for layer in base_model.layers[idx:]:\n",
        "            layer.trainable = True\n",
        "\n",
        "    print(f\"Unfroze {N} Conv2D block(s) starting with layer(s):\",\n",
        "          [base_model.layers[i].name for i in to_unfreeze])\n",
        "\n",
        "N = 1\n",
        "unfreeze_last_conv_blocks(base_model, N=1)\n",
        "\n",
        "# Re-compile with lower LR\n",
        "model.compile(\n",
        "  optimizer=tf.keras.optimizers.Adam(1e-4),\n",
        "  loss='categorical_crossentropy',\n",
        "  metrics=['accuracy']\n",
        ")\n",
        "\n",
        "# Train for another 5-10 epochs\n",
        "ft_history = model.fit(\n",
        "  train_ds,\n",
        "  validation_data=val_ds,\n",
        "  initial_epoch=history.epoch[-1] + 1,\n",
        "  epochs=history.epoch[-1] + 10,\n",
        "  callbacks=cb\n",
        ")"
      ],
      "metadata": {
        "id": "MKr5M5sm8pDe",
        "outputId": "3e7fddd9-d1f8-4240-d867-d824d43560ff",
        "colab": {
          "base_uri": "https://localhost:8080/"
        }
      },
      "execution_count": 15,
      "outputs": [
        {
          "output_type": "stream",
          "name": "stdout",
          "text": [
            "Unfroze 1 Conv2D block(s) starting with layer(s): ['conv2d_2']\n",
            "Epoch 21/29\n",
            "\u001b[1m660/660\u001b[0m \u001b[32m━━━━━━━━━━━━━━━━━━━━\u001b[0m\u001b[37m\u001b[0m \u001b[1m435s\u001b[0m 654ms/step - accuracy: 0.1800 - loss: 5.8714 - val_accuracy: 0.2014 - val_loss: 5.6855 - learning_rate: 1.0000e-04\n",
            "Epoch 22/29\n",
            "\u001b[1m660/660\u001b[0m \u001b[32m━━━━━━━━━━━━━━━━━━━━\u001b[0m\u001b[37m\u001b[0m \u001b[1m417s\u001b[0m 632ms/step - accuracy: 0.2380 - loss: 5.6456 - val_accuracy: 0.2136 - val_loss: 5.6024 - learning_rate: 1.0000e-04\n",
            "Epoch 23/29\n",
            "\u001b[1m660/660\u001b[0m \u001b[32m━━━━━━━━━━━━━━━━━━━━\u001b[0m\u001b[37m\u001b[0m \u001b[1m414s\u001b[0m 628ms/step - accuracy: 0.2609 - loss: 5.5322 - val_accuracy: 0.2276 - val_loss: 5.5408 - learning_rate: 1.0000e-04\n",
            "Epoch 24/29\n",
            "\u001b[1m660/660\u001b[0m \u001b[32m━━━━━━━━━━━━━━━━━━━━\u001b[0m\u001b[37m\u001b[0m \u001b[1m415s\u001b[0m 628ms/step - accuracy: 0.2865 - loss: 5.4432 - val_accuracy: 0.2529 - val_loss: 5.4611 - learning_rate: 1.0000e-04\n",
            "Epoch 25/29\n",
            "\u001b[1m660/660\u001b[0m \u001b[32m━━━━━━━━━━━━━━━━━━━━\u001b[0m\u001b[37m\u001b[0m \u001b[1m423s\u001b[0m 640ms/step - accuracy: 0.3051 - loss: 5.3637 - val_accuracy: 0.2617 - val_loss: 5.4105 - learning_rate: 1.0000e-04\n",
            "Epoch 26/29\n",
            "\u001b[1m660/660\u001b[0m \u001b[32m━━━━━━━━━━━━━━━━━━━━\u001b[0m\u001b[37m\u001b[0m \u001b[1m415s\u001b[0m 628ms/step - accuracy: 0.3251 - loss: 5.2936 - val_accuracy: 0.2724 - val_loss: 5.3604 - learning_rate: 1.0000e-04\n",
            "Epoch 27/29\n",
            "\u001b[1m660/660\u001b[0m \u001b[32m━━━━━━━━━━━━━━━━━━━━\u001b[0m\u001b[37m\u001b[0m \u001b[1m419s\u001b[0m 634ms/step - accuracy: 0.3378 - loss: 5.2295 - val_accuracy: 0.2840 - val_loss: 5.3116 - learning_rate: 1.0000e-04\n",
            "Epoch 28/29\n",
            "\u001b[1m660/660\u001b[0m \u001b[32m━━━━━━━━━━━━━━━━━━━━\u001b[0m\u001b[37m\u001b[0m \u001b[1m413s\u001b[0m 625ms/step - accuracy: 0.3512 - loss: 5.1699 - val_accuracy: 0.2872 - val_loss: 5.2633 - learning_rate: 1.0000e-04\n",
            "Epoch 29/29\n",
            "\u001b[1m660/660\u001b[0m \u001b[32m━━━━━━━━━━━━━━━━━━━━\u001b[0m\u001b[37m\u001b[0m \u001b[1m416s\u001b[0m 629ms/step - accuracy: 0.3614 - loss: 5.1114 - val_accuracy: 0.2949 - val_loss: 5.2167 - learning_rate: 1.0000e-04\n"
          ]
        }
      ]
    },
    {
      "cell_type": "code",
      "source": [
        "def merge_histories(*hists):\n",
        "    merged = {}\n",
        "    for h in hists:\n",
        "        for k, v in h.history.items():\n",
        "            merged.setdefault(k, []).extend(v)\n",
        "    return merged\n",
        "\n",
        "\n",
        "# Merge histories\n",
        "history = merge_histories(history, ft_history)"
      ],
      "metadata": {
        "id": "_MSZWuh-ZwIA"
      },
      "execution_count": null,
      "outputs": []
    },
    {
      "cell_type": "markdown",
      "metadata": {
        "id": "hHMjuGLOOj5H"
      },
      "source": [
        "# **10. Evaluation & Visualization**"
      ]
    },
    {
      "cell_type": "code",
      "source": [
        "# Load best checkpoint's weights\n",
        "model.load_weights(CKPT_DIR)\n",
        "\n",
        "test_loss, test_acc = model.evaluate(test_ds)\n",
        "print(f\"Test accuracy: {test_acc:.4f}\")\n",
        "\n",
        "# Gather all ground-truths and predictions\n",
        "y_true = []\n",
        "y_pred = []\n",
        "for batch_x, batch_y in test_ds:\n",
        "  preds = model.predict(batch_x)\n",
        "  y_pred.extend(np.argmax(preds, axis=1))\n",
        "  y_true.extend(np.argmax(batch_y.numpy(), axis=1))\n",
        "print(classification_report(y_true, y_pred, target_names=class_names))\n",
        "\n",
        "cm = confusion_matrix(y_true, y_pred)\n",
        "\n",
        "# Plot confusion matrix\n",
        "plt.figure(figsize=(10, 10))\n",
        "plt.imshow(cm, interpolation='nearest', cmap=plt.cm.Blues)\n",
        "plt.title(\"Confusion Matrix\")\n",
        "plt.colorbar()\n",
        "tick_marks = np.arange(len(class_names))\n",
        "plt.xticks(tick_marks, class_names, rotation=90)\n",
        "plt.yticks(tick_marks, class_names)\n",
        "plt.xlabel('Predicted')\n",
        "plt.ylabel('True')\n",
        "plt.tight_layout()\n",
        "plt.show()\n",
        "\n",
        "# Training curves\n",
        "epochs = range(1, len(history.history['loss']) + 1)\n",
        "plt.figure(figsize=(12, 4))\n",
        "\n",
        "# Accuracy\n",
        "plt.subplot(1, 2, 1)\n",
        "plt.plot(epochs, history.history['accuracy'],    label='train_acc')\n",
        "plt.plot(epochs, history.history['val_accuracy'],label='val_acc')\n",
        "plt.title('Accuracy')\n",
        "plt.xlabel('Epoch')\n",
        "plt.legend()\n",
        "\n",
        "# Loss\n",
        "plt.subplot(1, 2, 2)\n",
        "plt.plot(epochs, history.history['loss'],    label='train_loss')\n",
        "plt.plot(epochs, history.history['val_loss'],label='val_loss')\n",
        "plt.title('Loss')\n",
        "plt.xlabel('Epoch')\n",
        "plt.legend()"
      ],
      "metadata": {
        "id": "RhqpDJr7Rvjq"
      },
      "execution_count": null,
      "outputs": []
    },
    {
      "cell_type": "markdown",
      "metadata": {
        "id": "WeZuj2jpOrqf"
      },
      "source": [
        "# **11. Qualitative Error Analysis**"
      ]
    },
    {
      "cell_type": "code",
      "source": [
        "# Plot a few misclassified 3-letter words\n",
        "mis_idx = [i for i,(t,p) in enumerate(zip(y_true, y_pred)) if t != p]\n",
        "show_examples(test_ds.unbatch().skip(mis_idx[0]), \"Misclassified example\")"
      ],
      "metadata": {
        "id": "EADfPJpMRyAT"
      },
      "execution_count": null,
      "outputs": []
    }
  ],
  "metadata": {
    "accelerator": "TPU",
    "colab": {
      "gpuType": "V28",
      "provenance": [],
      "authorship_tag": "ABX9TyOcvBiXlJsm50ZTN9rb5UMA",
      "include_colab_link": true
    },
    "kernelspec": {
      "display_name": "Python 3",
      "name": "python3"
    },
    "language_info": {
      "name": "python"
    }
  },
  "nbformat": 4,
  "nbformat_minor": 0
}