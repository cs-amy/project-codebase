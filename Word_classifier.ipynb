{
  "nbformat": 4,
  "nbformat_minor": 0,
  "metadata": {
    "colab": {
      "provenance": [],
      "authorship_tag": "ABX9TyNAp0JwWCi1qglR0+ut4tTw",
      "include_colab_link": true
    },
    "kernelspec": {
      "name": "python3",
      "display_name": "Python 3"
    },
    "language_info": {
      "name": "python"
    }
  },
  "cells": [
    {
      "cell_type": "markdown",
      "metadata": {
        "id": "view-in-github",
        "colab_type": "text"
      },
      "source": [
        "<a href=\"https://colab.research.google.com/github/cs-amy/project-codebase/blob/main/Word_classifier.ipynb\" target=\"_parent\"><img src=\"https://colab.research.google.com/assets/colab-badge.svg\" alt=\"Open In Colab\"/></a>"
      ]
    },
    {
      "cell_type": "markdown",
      "source": [
        "# **CNN Sliding-Window Model for 3-Letter Word De-Obfuscation**\n",
        "Stage 2 of MSc Project — Ashraf Muhammed Yusuf"
      ],
      "metadata": {
        "id": "RNvi5n0bLCda"
      }
    },
    {
      "cell_type": "markdown",
      "source": [
        "# **1. Colab Environment Setup**"
      ],
      "metadata": {
        "id": "V3t0wN17LOBf"
      }
    },
    {
      "cell_type": "code",
      "source": [
        "# Import dependencies\n",
        "import numpy as np\n",
        "import matplotlib.pyplot as plt\n",
        "import tensorflow as tf, os, numpy as np\n",
        "from tensorflow.keras import mixed_precision\n",
        "from google.colab import drive\n",
        "from tensorflow.keras.callbacks import (ModelCheckpoint, EarlyStopping, ReduceLROnPlateau)\n",
        "from sklearn.metrics import classification_report, confusion_matrix"
      ],
      "metadata": {
        "id": "UUMBUoObLUnb"
      },
      "execution_count": 1,
      "outputs": []
    },
    {
      "cell_type": "code",
      "source": [
        "# 1.3 Mount Drive & define base path\n",
        "# Mount Drive so you can read datasets and write checkpoints\n",
        "# Link to dataset:\n",
        "# https://drive.google.com/drive/folders/1sfNG1PkmTPBe1wOSQXZmfdkvR97Hn9lk?usp=sharing\n",
        "drive.mount('/content/drive')\n",
        "BASE_PATH = \"/content/drive/MyDrive/MScProject\""
      ],
      "metadata": {
        "id": "91L4Z6naS9gN"
      },
      "execution_count": null,
      "outputs": []
    },
    {
      "cell_type": "code",
      "source": [
        "# (Optional—but useful) turn on XLA JIT for extra speed\n",
        "tf.config.optimizer.set_jit(True)"
      ],
      "metadata": {
        "id": "-w2FvZZOTtyK"
      },
      "execution_count": null,
      "outputs": []
    },
    {
      "cell_type": "markdown",
      "source": [
        "# **2. Load & Freeze the Single-Char Model**"
      ],
      "metadata": {
        "id": "nuumCMV4NETu"
      }
    },
    {
      "cell_type": "code",
      "source": [
        "base_model = tf.keras.models.load_model(f\"{BASE_PATH}/char_cnn_ckpt_best\")\n",
        "base_model.trainable = False # freeze weights\n",
        "print(\"Base model frozen — params:\", base_model.count_params())"
      ],
      "metadata": {
        "id": "DidvFD0MNIT5"
      },
      "execution_count": null,
      "outputs": []
    },
    {
      "cell_type": "markdown",
      "source": [
        "# **3. Dataset: 3-Letter Words**"
      ],
      "metadata": {
        "id": "Jc4cJg9cNkwe"
      }
    },
    {
      "cell_type": "code",
      "source": [
        "IMG_H, IMG_W = 64, 64\n",
        "BATCH = 64 if ACC != \"CPU\" else 16\n",
        "AUTOTUNE = tf.data.AUTOTUNE\n",
        "\n",
        "def preprocess(img, label):\n",
        "  img = tf.image.convert_image_dtype(img, tf.float32)\n",
        "  img = tf.image.resize(img, [IMG_H, IMG_W])\n",
        "  return img, label\n",
        "\n",
        "raw_train = tf.keras.preprocessing.image_dataset_from_directory(\n",
        "  f\"{BASE_PATH}/data/words3/train\",\n",
        "  labels=\"inferred\", label_mode=\"categorical\",\n",
        "  batch_size=BATCH, image_size=(IMG_H, IMG_W),\n",
        "  color_mode=\"grayscale\", seed=42\n",
        ")\n",
        "class_names = raw_train.class_names # capture once\n",
        "\n",
        "train_ds = (raw_train\n",
        "            .map(preprocess, num_parallel_calls=AUTOTUNE)\n",
        "            .cache().shuffle(1000).prefetch(AUTOTUNE))\n",
        "\n",
        "val_ds = (tf.keras.preprocessing.image_dataset_from_directory(\n",
        "            f\"{BASE_PATH}/data/words3/val\", labels=\"inferred\",\n",
        "            label_mode=\"categorical\", batch_size=BATCH,\n",
        "            image_size=(IMG_H, IMG_W), color_mode=\"grayscale\")\n",
        "          .map(preprocess).cache().prefetch(AUTOTUNE))\n",
        "\n",
        "test_ds = (tf.keras.preprocessing.image_dataset_from_directory(\n",
        "            f\"{BASE_PATH}/data/words3/test\", labels=\"inferred\",\n",
        "            label_mode=\"categorical\", batch_size=BATCH,\n",
        "            image_size=(IMG_H, IMG_W), color_mode=\"grayscale\", shuffle=False)\n",
        "          .map(preprocess).cache().prefetch(AUTOTUNE))"
      ],
      "metadata": {
        "id": "9YNtUaOyNkZr"
      },
      "execution_count": null,
      "outputs": []
    },
    {
      "cell_type": "markdown",
      "source": [
        "# **4. Visual Sanity Check**"
      ],
      "metadata": {
        "id": "qPPLO34pNz2K"
      }
    },
    {
      "cell_type": "code",
      "source": [
        "def show_examples(ds, title, n=6):\n",
        "  imgs, lbls = next(iter(ds))\n",
        "  plt.figure(figsize=(8,3))\n",
        "  for i in range(n):\n",
        "    plt.subplot(2, n//2, i+1)\n",
        "    plt.imshow(imgs[i].numpy().squeeze(), cmap='gray')\n",
        "    plt.title(class_names[lbls[i].numpy().argmax()])\n",
        "    plt.axis('off')\n",
        "  plt.suptitle(title); plt.show()\n",
        "\n",
        "show_examples(train_ds, \"Train Samples\")"
      ],
      "metadata": {
        "id": "ONjIkH9hN2Aq"
      },
      "execution_count": null,
      "outputs": []
    },
    {
      "cell_type": "markdown",
      "source": [
        "# **5. Build the Sliding-Window Model**"
      ],
      "metadata": {
        "id": "i4xIlbVLN-hN"
      }
    },
    {
      "cell_type": "code",
      "source": [
        "PATCH_W = IMG_W // 3\n",
        "\n",
        "def extract_patch(x, idx):\n",
        "  start = idx * PATCH_W\n",
        "  return x[:, :, start:start+PATCH_W, :]\n",
        "\n",
        "inputs = tf.keras.Input(shape=(IMG_H, IMG_W, 1))\n",
        "logits = []\n",
        "\n",
        "for i in range(3):\n",
        "  patch = tf.keras.layers.Lambda(lambda z, i=i: extract_patch(z, i))(inputs)\n",
        "  # Re-use frozen base_model (shared weights)\n",
        "  logits.append(base_model(patch)) # shape (batch, 26)\n",
        "\n",
        "concat = tf.keras.layers.Concatenate()(logits) # (batch, 78)\n",
        "dense = tf.keras.layers.Dense(78, activation='softmax')(concat)\n",
        "\n",
        "word_model = tf.keras.Model(inputs, dense)\n",
        "word_model.compile(\n",
        "  optimizer=tf.keras.optimizers.Adam(1e-3),\n",
        "  loss='categorical_crossentropy',\n",
        "  metrics=['accuracy']\n",
        ")\n",
        "\n",
        "# Print model summary\n",
        "word_model.summary()"
      ],
      "metadata": {
        "id": "jVuQewrCOAhv"
      },
      "execution_count": null,
      "outputs": []
    },
    {
      "cell_type": "markdown",
      "source": [
        "# **6. Callbacks**"
      ],
      "metadata": {
        "id": "iWVbhlvKOMjg"
      }
    },
    {
      "cell_type": "code",
      "source": [
        "CKPT_DIR = f\"{BASE_PATH}/words3_ckpt_best.keras\"\n",
        "\n",
        "callbacks = [\n",
        "  ModelCheckpoint(CKPT_DIR, save_best_only=True, monitor='val_loss'),\n",
        "  EarlyStopping(monitor='val_loss', patience=5, restore_best_weights=True),\n",
        "  ReduceLROnPlateau(monitor='val_loss', factor=0.5, patience=2, min_lr=1e-6)\n",
        "]"
      ],
      "metadata": {
        "id": "ifsAp6O1OOrx"
      },
      "execution_count": null,
      "outputs": []
    },
    {
      "cell_type": "markdown",
      "source": [
        "# **7. Train (Frozen Base)**"
      ],
      "metadata": {
        "id": "XPi4tnFGOS4R"
      }
    },
    {
      "cell_type": "code",
      "source": [
        "history = word_model.fit(\n",
        "  train_ds,\n",
        "  validation_data=val_ds,\n",
        "  epochs=20,\n",
        "  callbacks=callbacks\n",
        ")"
      ],
      "metadata": {
        "id": "2aai8C7KOVVh"
      },
      "execution_count": null,
      "outputs": []
    },
    {
      "cell_type": "markdown",
      "source": [
        "# **8. Optional Fine-Tune Last Conv Block**"
      ],
      "metadata": {
        "id": "st0PdMWuOdRc"
      }
    },
    {
      "cell_type": "code",
      "source": [
        "# Un-freeze last 3 layers of base_model\n",
        "for layer in base_model.layers[-3:]:\n",
        "  layer.trainable = True\n",
        "\n",
        "# Re-compile with lower LR\n",
        "word_model.compile(\n",
        "  optimizer=tf.keras.optimizers.Adam(1e-4),\n",
        "  loss='categorical_crossentropy',\n",
        "  metrics=['accuracy']\n",
        ")\n",
        "\n",
        "ft_history = word_model.fit(\n",
        "  train_ds, validation_data=val_ds,\n",
        "  initial_epoch=history.epoch[-1]+1,\n",
        "  epochs=history.epoch[-1]+4,\n",
        "  callbacks=callbacks\n",
        ")"
      ],
      "metadata": {
        "id": "rf-zB58mOguA"
      },
      "execution_count": null,
      "outputs": []
    },
    {
      "cell_type": "markdown",
      "source": [
        "# **9. Evaluation**"
      ],
      "metadata": {
        "id": "hHMjuGLOOj5H"
      }
    },
    {
      "cell_type": "code",
      "source": [
        "word_model = tf.keras.models.load_model(CKPT_DIR) # best checkpoint\n",
        "test_loss, test_acc = word_model.evaluate(test_ds)\n",
        "print(f\"Test accuracy: {test_acc:.4f}\")\n",
        "\n",
        "# Util for plotting confusion matrix\n",
        "def plot_confusion_matrix(cm, class_names, title=\"Confusion Matrix\"):\n",
        "  \"\"\"\n",
        "  Args:\n",
        "      cm (np.ndarray): square confusion matrix\n",
        "      class_names (List[str]): labels in the same order used to build cm\n",
        "  \"\"\"\n",
        "  fig, ax = plt.subplots(figsize=(10, 9))\n",
        "  im = ax.imshow(cm, interpolation=\"nearest\", cmap=plt.cm.Blues)\n",
        "  ax.figure.colorbar(im, ax=ax, fraction=0.045)\n",
        "\n",
        "  # axes & ticks\n",
        "  ax.set(\n",
        "    xticks=np.arange(len(class_names)),\n",
        "    yticks=np.arange(len(class_names)),\n",
        "    xticklabels=class_names,\n",
        "    yticklabels=class_names,\n",
        "    ylabel=\"True label\",\n",
        "    xlabel=\"Predicted label\",\n",
        "    title=title,\n",
        "  )\n",
        "  plt.setp(ax.get_xticklabels(), rotation=90, ha=\"center\", va=\"center\")\n",
        "\n",
        "  # annotate cells\n",
        "  thresh = cm.max() / 2.0\n",
        "  for i in range(cm.shape[0]):\n",
        "    for j in range(cm.shape[1]):\n",
        "      ax.text(\n",
        "        j, i, format(cm[i, j], \"d\"),\n",
        "        ha=\"center\", va=\"center\",\n",
        "        color=\"white\" if cm[i, j] > thresh else \"black\",\n",
        "        fontsize=8\n",
        "      )\n",
        "\n",
        "  fig.tight_layout()\n",
        "  plt.show()\n",
        "\n",
        "# Classification report\n",
        "y_pred, y_true = [], []\n",
        "for x, y in test_ds:\n",
        "  y_pred.extend(np.argmax(word_model.predict(x), axis=1))\n",
        "  y_true.extend(np.argmax(y.numpy(), axis=1))\n",
        "print(classification_report(y_true, y_pred, target_names=class_names))\n",
        "\n",
        "# Confusion matrix heat-map (optional)\n",
        "cm = confusion_matrix(y_true, y_pred)\n",
        "plot_confusion_matrix(cm, class_names, title=\"3-Letter Word Confusion Matrix\")"
      ],
      "metadata": {
        "id": "fdfVNFw1OlRs"
      },
      "execution_count": null,
      "outputs": []
    },
    {
      "cell_type": "markdown",
      "source": [
        "# **10. Qualitative Error Analysis**"
      ],
      "metadata": {
        "id": "WeZuj2jpOrqf"
      }
    },
    {
      "cell_type": "code",
      "source": [
        "# Plot a few misclassified 3-letter words\n",
        "mis_idx = [i for i,(t,p) in enumerate(zip(y_true, y_pred)) if t != p]\n",
        "show_examples(test_ds.unbatch().skip(mis_idx[0]), \"Misclassified example\")"
      ],
      "metadata": {
        "id": "KSwpu5vjOuEs"
      },
      "execution_count": null,
      "outputs": []
    }
  ]
}